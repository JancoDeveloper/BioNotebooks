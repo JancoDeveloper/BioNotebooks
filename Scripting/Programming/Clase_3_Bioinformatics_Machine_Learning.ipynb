{
  "cells": [
    {
      "cell_type": "markdown",
      "metadata": {
        "id": "nhbs7i4szF4f"
      },
      "source": [
        "# LTR Example Machine Learning\n"
      ]
    },
    {
      "cell_type": "markdown",
      "metadata": {
        "id": "2JgGBty_zF4j"
      },
      "source": [
        "# Importación de Librerías"
      ]
    },
    {
      "cell_type": "code",
      "execution_count": null,
      "metadata": {
        "id": "1cpg-Ga3zF4k"
      },
      "outputs": [],
      "source": [
        "%matplotlib inline\n",
        "import pandas as pd\n",
        "import numpy as np\n",
        "import matplotlib as mpl\n",
        "import matplotlib.pyplot as plt\n",
        "import matplotlib.colors as colors\n",
        "from mpl_toolkits.axes_grid1 import make_axes_locatable\n",
        "from pandas import set_option\n",
        "from sklearn.metrics import confusion_matrix\n",
        "\n",
        "from sklearn.metrics import accuracy_score\n",
        "from sklearn.metrics import f1_score\n",
        "from sklearn.metrics import recall_score\n",
        "from sklearn.metrics import precision_score\n",
        "from sklearn.metrics import classification_report\n",
        "\n",
        "from sklearn import model_selection\n",
        "from sklearn.linear_model import LogisticRegression\n",
        "from sklearn.neighbors import KNeighborsClassifier\n",
        "from sklearn.discriminant_analysis import LinearDiscriminantAnalysis\n",
        "from sklearn.naive_bayes import GaussianNB\n",
        "from sklearn.svm import SVC\n",
        "from sklearn.neural_network import MLPClassifier\n",
        "from sklearn.ensemble import RandomForestRegressor\n",
        "from sklearn.cluster import KMeans\n",
        "from sklearn.ensemble import RandomForestClassifier\n",
        "from sklearn.tree import DecisionTreeClassifier\n",
        "\n",
        "#import seaborn as sns; sns.set() "
      ]
    },
    {
      "cell_type": "code",
      "source": [
        "from google.colab import drive\n",
        "drive.mount('/content/drive')"
      ],
      "metadata": {
        "colab": {
          "base_uri": "https://localhost:8080/"
        },
        "id": "nShQqWj66QkB",
        "outputId": "aeeb992b-caa7-4580-b864-3b7e461c6f1d"
      },
      "execution_count": null,
      "outputs": [
        {
          "output_type": "stream",
          "name": "stdout",
          "text": [
            "Drive already mounted at /content/drive; to attempt to forcibly remount, call drive.mount(\"/content/drive\", force_remount=True).\n"
          ]
        }
      ]
    },
    {
      "cell_type": "markdown",
      "metadata": {
        "id": "cIkYNkKpzF4l"
      },
      "source": [
        "# Lectura de Archivo"
      ]
    },
    {
      "cell_type": "code",
      "execution_count": null,
      "metadata": {
        "id": "W-x18nXQzF4m",
        "outputId": "eef73d4e-54d5-415a-ec98-8f4600ece617",
        "colab": {
          "base_uri": "https://localhost:8080/",
          "height": 424
        }
      },
      "outputs": [
        {
          "output_type": "execute_result",
          "data": {
            "text/plain": [
              "     Label   B1   B2   B3   B4   B5   B6   B7   B8   B9  ... B15991 B15992  \\\n",
              "0        0  100  011  100  100  001  001  011  001  100  ...    000    000   \n",
              "1        5  100  011  100  100  011  011  011  011  100  ...    000    000   \n",
              "2        5  100  011  100  001  011  011  011  011  100  ...    000    000   \n",
              "3        1  100  011  100  001  001  011  001  001  001  ...    000    000   \n",
              "4        2  100  011  001  001  001  010  010  011  011  ...    000    000   \n",
              "...    ...  ...  ...  ...  ...  ...  ...  ...  ...  ...  ...    ...    ...   \n",
              "1003    10  100  011  100  100  011  010  011  011  001  ...    000    000   \n",
              "1004    10  100  011  100  100  011  010  011  011  001  ...    000    000   \n",
              "1005    10  100  011  100  100  011  010  011  011  001  ...    000    000   \n",
              "1006    10  100  011  010  100  010  001  100  011  100  ...    000    000   \n",
              "1007    10  100  011  100  010  001  001  011  011  011  ...    000    000   \n",
              "\n",
              "     B15993 B15994 B15995 B15996 B15997 B15998 B15999 B16000  \n",
              "0       000    000    000    000    000    000    000    000  \n",
              "1       000    000    000    000    000    000    000    000  \n",
              "2       000    000    000    000    000    000    000    000  \n",
              "3       000    000    000    000    000    000    000    000  \n",
              "4       000    000    000    000    000    000    000    000  \n",
              "...     ...    ...    ...    ...    ...    ...    ...    ...  \n",
              "1003    000    000    000    000    000    000    000    000  \n",
              "1004    000    000    000    000    000    000    000    000  \n",
              "1005    000    000    000    000    000    000    000    000  \n",
              "1006    000    000    000    000    000    000    000    000  \n",
              "1007    000    000    000    000    000    000    000    000  \n",
              "\n",
              "[1008 rows x 16001 columns]"
            ],
            "text/html": [
              "\n",
              "  <div id=\"df-f1df05d5-def4-412b-9d5b-864c4ce5e030\">\n",
              "    <div class=\"colab-df-container\">\n",
              "      <div>\n",
              "<style scoped>\n",
              "    .dataframe tbody tr th:only-of-type {\n",
              "        vertical-align: middle;\n",
              "    }\n",
              "\n",
              "    .dataframe tbody tr th {\n",
              "        vertical-align: top;\n",
              "    }\n",
              "\n",
              "    .dataframe thead th {\n",
              "        text-align: right;\n",
              "    }\n",
              "</style>\n",
              "<table border=\"1\" class=\"dataframe\">\n",
              "  <thead>\n",
              "    <tr style=\"text-align: right;\">\n",
              "      <th></th>\n",
              "      <th>Label</th>\n",
              "      <th>B1</th>\n",
              "      <th>B2</th>\n",
              "      <th>B3</th>\n",
              "      <th>B4</th>\n",
              "      <th>B5</th>\n",
              "      <th>B6</th>\n",
              "      <th>B7</th>\n",
              "      <th>B8</th>\n",
              "      <th>B9</th>\n",
              "      <th>...</th>\n",
              "      <th>B15991</th>\n",
              "      <th>B15992</th>\n",
              "      <th>B15993</th>\n",
              "      <th>B15994</th>\n",
              "      <th>B15995</th>\n",
              "      <th>B15996</th>\n",
              "      <th>B15997</th>\n",
              "      <th>B15998</th>\n",
              "      <th>B15999</th>\n",
              "      <th>B16000</th>\n",
              "    </tr>\n",
              "  </thead>\n",
              "  <tbody>\n",
              "    <tr>\n",
              "      <th>0</th>\n",
              "      <td>0</td>\n",
              "      <td>100</td>\n",
              "      <td>011</td>\n",
              "      <td>100</td>\n",
              "      <td>100</td>\n",
              "      <td>001</td>\n",
              "      <td>001</td>\n",
              "      <td>011</td>\n",
              "      <td>001</td>\n",
              "      <td>100</td>\n",
              "      <td>...</td>\n",
              "      <td>000</td>\n",
              "      <td>000</td>\n",
              "      <td>000</td>\n",
              "      <td>000</td>\n",
              "      <td>000</td>\n",
              "      <td>000</td>\n",
              "      <td>000</td>\n",
              "      <td>000</td>\n",
              "      <td>000</td>\n",
              "      <td>000</td>\n",
              "    </tr>\n",
              "    <tr>\n",
              "      <th>1</th>\n",
              "      <td>5</td>\n",
              "      <td>100</td>\n",
              "      <td>011</td>\n",
              "      <td>100</td>\n",
              "      <td>100</td>\n",
              "      <td>011</td>\n",
              "      <td>011</td>\n",
              "      <td>011</td>\n",
              "      <td>011</td>\n",
              "      <td>100</td>\n",
              "      <td>...</td>\n",
              "      <td>000</td>\n",
              "      <td>000</td>\n",
              "      <td>000</td>\n",
              "      <td>000</td>\n",
              "      <td>000</td>\n",
              "      <td>000</td>\n",
              "      <td>000</td>\n",
              "      <td>000</td>\n",
              "      <td>000</td>\n",
              "      <td>000</td>\n",
              "    </tr>\n",
              "    <tr>\n",
              "      <th>2</th>\n",
              "      <td>5</td>\n",
              "      <td>100</td>\n",
              "      <td>011</td>\n",
              "      <td>100</td>\n",
              "      <td>001</td>\n",
              "      <td>011</td>\n",
              "      <td>011</td>\n",
              "      <td>011</td>\n",
              "      <td>011</td>\n",
              "      <td>100</td>\n",
              "      <td>...</td>\n",
              "      <td>000</td>\n",
              "      <td>000</td>\n",
              "      <td>000</td>\n",
              "      <td>000</td>\n",
              "      <td>000</td>\n",
              "      <td>000</td>\n",
              "      <td>000</td>\n",
              "      <td>000</td>\n",
              "      <td>000</td>\n",
              "      <td>000</td>\n",
              "    </tr>\n",
              "    <tr>\n",
              "      <th>3</th>\n",
              "      <td>1</td>\n",
              "      <td>100</td>\n",
              "      <td>011</td>\n",
              "      <td>100</td>\n",
              "      <td>001</td>\n",
              "      <td>001</td>\n",
              "      <td>011</td>\n",
              "      <td>001</td>\n",
              "      <td>001</td>\n",
              "      <td>001</td>\n",
              "      <td>...</td>\n",
              "      <td>000</td>\n",
              "      <td>000</td>\n",
              "      <td>000</td>\n",
              "      <td>000</td>\n",
              "      <td>000</td>\n",
              "      <td>000</td>\n",
              "      <td>000</td>\n",
              "      <td>000</td>\n",
              "      <td>000</td>\n",
              "      <td>000</td>\n",
              "    </tr>\n",
              "    <tr>\n",
              "      <th>4</th>\n",
              "      <td>2</td>\n",
              "      <td>100</td>\n",
              "      <td>011</td>\n",
              "      <td>001</td>\n",
              "      <td>001</td>\n",
              "      <td>001</td>\n",
              "      <td>010</td>\n",
              "      <td>010</td>\n",
              "      <td>011</td>\n",
              "      <td>011</td>\n",
              "      <td>...</td>\n",
              "      <td>000</td>\n",
              "      <td>000</td>\n",
              "      <td>000</td>\n",
              "      <td>000</td>\n",
              "      <td>000</td>\n",
              "      <td>000</td>\n",
              "      <td>000</td>\n",
              "      <td>000</td>\n",
              "      <td>000</td>\n",
              "      <td>000</td>\n",
              "    </tr>\n",
              "    <tr>\n",
              "      <th>...</th>\n",
              "      <td>...</td>\n",
              "      <td>...</td>\n",
              "      <td>...</td>\n",
              "      <td>...</td>\n",
              "      <td>...</td>\n",
              "      <td>...</td>\n",
              "      <td>...</td>\n",
              "      <td>...</td>\n",
              "      <td>...</td>\n",
              "      <td>...</td>\n",
              "      <td>...</td>\n",
              "      <td>...</td>\n",
              "      <td>...</td>\n",
              "      <td>...</td>\n",
              "      <td>...</td>\n",
              "      <td>...</td>\n",
              "      <td>...</td>\n",
              "      <td>...</td>\n",
              "      <td>...</td>\n",
              "      <td>...</td>\n",
              "      <td>...</td>\n",
              "    </tr>\n",
              "    <tr>\n",
              "      <th>1003</th>\n",
              "      <td>10</td>\n",
              "      <td>100</td>\n",
              "      <td>011</td>\n",
              "      <td>100</td>\n",
              "      <td>100</td>\n",
              "      <td>011</td>\n",
              "      <td>010</td>\n",
              "      <td>011</td>\n",
              "      <td>011</td>\n",
              "      <td>001</td>\n",
              "      <td>...</td>\n",
              "      <td>000</td>\n",
              "      <td>000</td>\n",
              "      <td>000</td>\n",
              "      <td>000</td>\n",
              "      <td>000</td>\n",
              "      <td>000</td>\n",
              "      <td>000</td>\n",
              "      <td>000</td>\n",
              "      <td>000</td>\n",
              "      <td>000</td>\n",
              "    </tr>\n",
              "    <tr>\n",
              "      <th>1004</th>\n",
              "      <td>10</td>\n",
              "      <td>100</td>\n",
              "      <td>011</td>\n",
              "      <td>100</td>\n",
              "      <td>100</td>\n",
              "      <td>011</td>\n",
              "      <td>010</td>\n",
              "      <td>011</td>\n",
              "      <td>011</td>\n",
              "      <td>001</td>\n",
              "      <td>...</td>\n",
              "      <td>000</td>\n",
              "      <td>000</td>\n",
              "      <td>000</td>\n",
              "      <td>000</td>\n",
              "      <td>000</td>\n",
              "      <td>000</td>\n",
              "      <td>000</td>\n",
              "      <td>000</td>\n",
              "      <td>000</td>\n",
              "      <td>000</td>\n",
              "    </tr>\n",
              "    <tr>\n",
              "      <th>1005</th>\n",
              "      <td>10</td>\n",
              "      <td>100</td>\n",
              "      <td>011</td>\n",
              "      <td>100</td>\n",
              "      <td>100</td>\n",
              "      <td>011</td>\n",
              "      <td>010</td>\n",
              "      <td>011</td>\n",
              "      <td>011</td>\n",
              "      <td>001</td>\n",
              "      <td>...</td>\n",
              "      <td>000</td>\n",
              "      <td>000</td>\n",
              "      <td>000</td>\n",
              "      <td>000</td>\n",
              "      <td>000</td>\n",
              "      <td>000</td>\n",
              "      <td>000</td>\n",
              "      <td>000</td>\n",
              "      <td>000</td>\n",
              "      <td>000</td>\n",
              "    </tr>\n",
              "    <tr>\n",
              "      <th>1006</th>\n",
              "      <td>10</td>\n",
              "      <td>100</td>\n",
              "      <td>011</td>\n",
              "      <td>010</td>\n",
              "      <td>100</td>\n",
              "      <td>010</td>\n",
              "      <td>001</td>\n",
              "      <td>100</td>\n",
              "      <td>011</td>\n",
              "      <td>100</td>\n",
              "      <td>...</td>\n",
              "      <td>000</td>\n",
              "      <td>000</td>\n",
              "      <td>000</td>\n",
              "      <td>000</td>\n",
              "      <td>000</td>\n",
              "      <td>000</td>\n",
              "      <td>000</td>\n",
              "      <td>000</td>\n",
              "      <td>000</td>\n",
              "      <td>000</td>\n",
              "    </tr>\n",
              "    <tr>\n",
              "      <th>1007</th>\n",
              "      <td>10</td>\n",
              "      <td>100</td>\n",
              "      <td>011</td>\n",
              "      <td>100</td>\n",
              "      <td>010</td>\n",
              "      <td>001</td>\n",
              "      <td>001</td>\n",
              "      <td>011</td>\n",
              "      <td>011</td>\n",
              "      <td>011</td>\n",
              "      <td>...</td>\n",
              "      <td>000</td>\n",
              "      <td>000</td>\n",
              "      <td>000</td>\n",
              "      <td>000</td>\n",
              "      <td>000</td>\n",
              "      <td>000</td>\n",
              "      <td>000</td>\n",
              "      <td>000</td>\n",
              "      <td>000</td>\n",
              "      <td>000</td>\n",
              "    </tr>\n",
              "  </tbody>\n",
              "</table>\n",
              "<p>1008 rows × 16001 columns</p>\n",
              "</div>\n",
              "      <button class=\"colab-df-convert\" onclick=\"convertToInteractive('df-f1df05d5-def4-412b-9d5b-864c4ce5e030')\"\n",
              "              title=\"Convert this dataframe to an interactive table.\"\n",
              "              style=\"display:none;\">\n",
              "        \n",
              "  <svg xmlns=\"http://www.w3.org/2000/svg\" height=\"24px\"viewBox=\"0 0 24 24\"\n",
              "       width=\"24px\">\n",
              "    <path d=\"M0 0h24v24H0V0z\" fill=\"none\"/>\n",
              "    <path d=\"M18.56 5.44l.94 2.06.94-2.06 2.06-.94-2.06-.94-.94-2.06-.94 2.06-2.06.94zm-11 1L8.5 8.5l.94-2.06 2.06-.94-2.06-.94L8.5 2.5l-.94 2.06-2.06.94zm10 10l.94 2.06.94-2.06 2.06-.94-2.06-.94-.94-2.06-.94 2.06-2.06.94z\"/><path d=\"M17.41 7.96l-1.37-1.37c-.4-.4-.92-.59-1.43-.59-.52 0-1.04.2-1.43.59L10.3 9.45l-7.72 7.72c-.78.78-.78 2.05 0 2.83L4 21.41c.39.39.9.59 1.41.59.51 0 1.02-.2 1.41-.59l7.78-7.78 2.81-2.81c.8-.78.8-2.07 0-2.86zM5.41 20L4 18.59l7.72-7.72 1.47 1.35L5.41 20z\"/>\n",
              "  </svg>\n",
              "      </button>\n",
              "      \n",
              "  <style>\n",
              "    .colab-df-container {\n",
              "      display:flex;\n",
              "      flex-wrap:wrap;\n",
              "      gap: 12px;\n",
              "    }\n",
              "\n",
              "    .colab-df-convert {\n",
              "      background-color: #E8F0FE;\n",
              "      border: none;\n",
              "      border-radius: 50%;\n",
              "      cursor: pointer;\n",
              "      display: none;\n",
              "      fill: #1967D2;\n",
              "      height: 32px;\n",
              "      padding: 0 0 0 0;\n",
              "      width: 32px;\n",
              "    }\n",
              "\n",
              "    .colab-df-convert:hover {\n",
              "      background-color: #E2EBFA;\n",
              "      box-shadow: 0px 1px 2px rgba(60, 64, 67, 0.3), 0px 1px 3px 1px rgba(60, 64, 67, 0.15);\n",
              "      fill: #174EA6;\n",
              "    }\n",
              "\n",
              "    [theme=dark] .colab-df-convert {\n",
              "      background-color: #3B4455;\n",
              "      fill: #D2E3FC;\n",
              "    }\n",
              "\n",
              "    [theme=dark] .colab-df-convert:hover {\n",
              "      background-color: #434B5C;\n",
              "      box-shadow: 0px 1px 3px 1px rgba(0, 0, 0, 0.15);\n",
              "      filter: drop-shadow(0px 1px 2px rgba(0, 0, 0, 0.3));\n",
              "      fill: #FFFFFF;\n",
              "    }\n",
              "  </style>\n",
              "\n",
              "      <script>\n",
              "        const buttonEl =\n",
              "          document.querySelector('#df-f1df05d5-def4-412b-9d5b-864c4ce5e030 button.colab-df-convert');\n",
              "        buttonEl.style.display =\n",
              "          google.colab.kernel.accessAllowed ? 'block' : 'none';\n",
              "\n",
              "        async function convertToInteractive(key) {\n",
              "          const element = document.querySelector('#df-f1df05d5-def4-412b-9d5b-864c4ce5e030');\n",
              "          const dataTable =\n",
              "            await google.colab.kernel.invokeFunction('convertToInteractive',\n",
              "                                                     [key], {});\n",
              "          if (!dataTable) return;\n",
              "\n",
              "          const docLinkHtml = 'Like what you see? Visit the ' +\n",
              "            '<a target=\"_blank\" href=https://colab.research.google.com/notebooks/data_table.ipynb>data table notebook</a>'\n",
              "            + ' to learn more about interactive tables.';\n",
              "          element.innerHTML = '';\n",
              "          dataTable['output_type'] = 'display_data';\n",
              "          await google.colab.output.renderOutput(dataTable, element);\n",
              "          const docLink = document.createElement('div');\n",
              "          docLink.innerHTML = docLinkHtml;\n",
              "          element.appendChild(docLink);\n",
              "        }\n",
              "      </script>\n",
              "    </div>\n",
              "  </div>\n",
              "  "
            ]
          },
          "metadata": {},
          "execution_count": 3
        }
      ],
      "source": [
        "set_option(\"display.max_rows\", 10)\n",
        "pd.options.mode.chained_assignment = None\n",
        "\n",
        "\n",
        "filename = '/content/drive/MyDrive/!UNAL/Introducción a las ciencias computacionales/Notebooks/Data/LTR-COD1.csv'\n",
        "training_data = pd.read_csv(filename,delimiter=',',dtype='str')\n",
        "training_data"
      ]
    },
    {
      "cell_type": "markdown",
      "metadata": {
        "id": "5WRlfqCWzF4n"
      },
      "source": [
        "# Estadísticas Básicas de los datos de entrada"
      ]
    },
    {
      "cell_type": "code",
      "execution_count": null,
      "metadata": {
        "id": "pdGnjBpCzF4n",
        "outputId": "636ecd3e-bcb3-4b58-9a77-eb0361bba9b7",
        "colab": {
          "base_uri": "https://localhost:8080/",
          "height": 204
        }
      },
      "outputs": [
        {
          "output_type": "execute_result",
          "data": {
            "text/plain": [
              "       Label    B1    B2    B3    B4    B5    B6    B7    B8    B9  ...  \\\n",
              "count   1008  1008  1008  1008  1008  1008  1008  1008  1008  1008  ...   \n",
              "unique    14     4     4     4     4     4     4     4     4     4  ...   \n",
              "top        0   100   011   100   100   011   001   011   001   001  ...   \n",
              "freq      72   890   922   620   653   482   379   461   404   290  ...   \n",
              "\n",
              "       B15991 B15992 B15993 B15994 B15995 B15996 B15997 B15998 B15999 B16000  \n",
              "count    1008   1008   1008   1008   1008   1008   1008   1008   1008   1008  \n",
              "unique      1      1      1      1      1      1      1      1      1      1  \n",
              "top       000    000    000    000    000    000    000    000    000    000  \n",
              "freq     1008   1008   1008   1008   1008   1008   1008   1008   1008   1008  \n",
              "\n",
              "[4 rows x 16001 columns]"
            ],
            "text/html": [
              "\n",
              "  <div id=\"df-a01f3e4a-4d6a-4fcb-8361-e5a9890b9c23\">\n",
              "    <div class=\"colab-df-container\">\n",
              "      <div>\n",
              "<style scoped>\n",
              "    .dataframe tbody tr th:only-of-type {\n",
              "        vertical-align: middle;\n",
              "    }\n",
              "\n",
              "    .dataframe tbody tr th {\n",
              "        vertical-align: top;\n",
              "    }\n",
              "\n",
              "    .dataframe thead th {\n",
              "        text-align: right;\n",
              "    }\n",
              "</style>\n",
              "<table border=\"1\" class=\"dataframe\">\n",
              "  <thead>\n",
              "    <tr style=\"text-align: right;\">\n",
              "      <th></th>\n",
              "      <th>Label</th>\n",
              "      <th>B1</th>\n",
              "      <th>B2</th>\n",
              "      <th>B3</th>\n",
              "      <th>B4</th>\n",
              "      <th>B5</th>\n",
              "      <th>B6</th>\n",
              "      <th>B7</th>\n",
              "      <th>B8</th>\n",
              "      <th>B9</th>\n",
              "      <th>...</th>\n",
              "      <th>B15991</th>\n",
              "      <th>B15992</th>\n",
              "      <th>B15993</th>\n",
              "      <th>B15994</th>\n",
              "      <th>B15995</th>\n",
              "      <th>B15996</th>\n",
              "      <th>B15997</th>\n",
              "      <th>B15998</th>\n",
              "      <th>B15999</th>\n",
              "      <th>B16000</th>\n",
              "    </tr>\n",
              "  </thead>\n",
              "  <tbody>\n",
              "    <tr>\n",
              "      <th>count</th>\n",
              "      <td>1008</td>\n",
              "      <td>1008</td>\n",
              "      <td>1008</td>\n",
              "      <td>1008</td>\n",
              "      <td>1008</td>\n",
              "      <td>1008</td>\n",
              "      <td>1008</td>\n",
              "      <td>1008</td>\n",
              "      <td>1008</td>\n",
              "      <td>1008</td>\n",
              "      <td>...</td>\n",
              "      <td>1008</td>\n",
              "      <td>1008</td>\n",
              "      <td>1008</td>\n",
              "      <td>1008</td>\n",
              "      <td>1008</td>\n",
              "      <td>1008</td>\n",
              "      <td>1008</td>\n",
              "      <td>1008</td>\n",
              "      <td>1008</td>\n",
              "      <td>1008</td>\n",
              "    </tr>\n",
              "    <tr>\n",
              "      <th>unique</th>\n",
              "      <td>14</td>\n",
              "      <td>4</td>\n",
              "      <td>4</td>\n",
              "      <td>4</td>\n",
              "      <td>4</td>\n",
              "      <td>4</td>\n",
              "      <td>4</td>\n",
              "      <td>4</td>\n",
              "      <td>4</td>\n",
              "      <td>4</td>\n",
              "      <td>...</td>\n",
              "      <td>1</td>\n",
              "      <td>1</td>\n",
              "      <td>1</td>\n",
              "      <td>1</td>\n",
              "      <td>1</td>\n",
              "      <td>1</td>\n",
              "      <td>1</td>\n",
              "      <td>1</td>\n",
              "      <td>1</td>\n",
              "      <td>1</td>\n",
              "    </tr>\n",
              "    <tr>\n",
              "      <th>top</th>\n",
              "      <td>0</td>\n",
              "      <td>100</td>\n",
              "      <td>011</td>\n",
              "      <td>100</td>\n",
              "      <td>100</td>\n",
              "      <td>011</td>\n",
              "      <td>001</td>\n",
              "      <td>011</td>\n",
              "      <td>001</td>\n",
              "      <td>001</td>\n",
              "      <td>...</td>\n",
              "      <td>000</td>\n",
              "      <td>000</td>\n",
              "      <td>000</td>\n",
              "      <td>000</td>\n",
              "      <td>000</td>\n",
              "      <td>000</td>\n",
              "      <td>000</td>\n",
              "      <td>000</td>\n",
              "      <td>000</td>\n",
              "      <td>000</td>\n",
              "    </tr>\n",
              "    <tr>\n",
              "      <th>freq</th>\n",
              "      <td>72</td>\n",
              "      <td>890</td>\n",
              "      <td>922</td>\n",
              "      <td>620</td>\n",
              "      <td>653</td>\n",
              "      <td>482</td>\n",
              "      <td>379</td>\n",
              "      <td>461</td>\n",
              "      <td>404</td>\n",
              "      <td>290</td>\n",
              "      <td>...</td>\n",
              "      <td>1008</td>\n",
              "      <td>1008</td>\n",
              "      <td>1008</td>\n",
              "      <td>1008</td>\n",
              "      <td>1008</td>\n",
              "      <td>1008</td>\n",
              "      <td>1008</td>\n",
              "      <td>1008</td>\n",
              "      <td>1008</td>\n",
              "      <td>1008</td>\n",
              "    </tr>\n",
              "  </tbody>\n",
              "</table>\n",
              "<p>4 rows × 16001 columns</p>\n",
              "</div>\n",
              "      <button class=\"colab-df-convert\" onclick=\"convertToInteractive('df-a01f3e4a-4d6a-4fcb-8361-e5a9890b9c23')\"\n",
              "              title=\"Convert this dataframe to an interactive table.\"\n",
              "              style=\"display:none;\">\n",
              "        \n",
              "  <svg xmlns=\"http://www.w3.org/2000/svg\" height=\"24px\"viewBox=\"0 0 24 24\"\n",
              "       width=\"24px\">\n",
              "    <path d=\"M0 0h24v24H0V0z\" fill=\"none\"/>\n",
              "    <path d=\"M18.56 5.44l.94 2.06.94-2.06 2.06-.94-2.06-.94-.94-2.06-.94 2.06-2.06.94zm-11 1L8.5 8.5l.94-2.06 2.06-.94-2.06-.94L8.5 2.5l-.94 2.06-2.06.94zm10 10l.94 2.06.94-2.06 2.06-.94-2.06-.94-.94-2.06-.94 2.06-2.06.94z\"/><path d=\"M17.41 7.96l-1.37-1.37c-.4-.4-.92-.59-1.43-.59-.52 0-1.04.2-1.43.59L10.3 9.45l-7.72 7.72c-.78.78-.78 2.05 0 2.83L4 21.41c.39.39.9.59 1.41.59.51 0 1.02-.2 1.41-.59l7.78-7.78 2.81-2.81c.8-.78.8-2.07 0-2.86zM5.41 20L4 18.59l7.72-7.72 1.47 1.35L5.41 20z\"/>\n",
              "  </svg>\n",
              "      </button>\n",
              "      \n",
              "  <style>\n",
              "    .colab-df-container {\n",
              "      display:flex;\n",
              "      flex-wrap:wrap;\n",
              "      gap: 12px;\n",
              "    }\n",
              "\n",
              "    .colab-df-convert {\n",
              "      background-color: #E8F0FE;\n",
              "      border: none;\n",
              "      border-radius: 50%;\n",
              "      cursor: pointer;\n",
              "      display: none;\n",
              "      fill: #1967D2;\n",
              "      height: 32px;\n",
              "      padding: 0 0 0 0;\n",
              "      width: 32px;\n",
              "    }\n",
              "\n",
              "    .colab-df-convert:hover {\n",
              "      background-color: #E2EBFA;\n",
              "      box-shadow: 0px 1px 2px rgba(60, 64, 67, 0.3), 0px 1px 3px 1px rgba(60, 64, 67, 0.15);\n",
              "      fill: #174EA6;\n",
              "    }\n",
              "\n",
              "    [theme=dark] .colab-df-convert {\n",
              "      background-color: #3B4455;\n",
              "      fill: #D2E3FC;\n",
              "    }\n",
              "\n",
              "    [theme=dark] .colab-df-convert:hover {\n",
              "      background-color: #434B5C;\n",
              "      box-shadow: 0px 1px 3px 1px rgba(0, 0, 0, 0.15);\n",
              "      filter: drop-shadow(0px 1px 2px rgba(0, 0, 0, 0.3));\n",
              "      fill: #FFFFFF;\n",
              "    }\n",
              "  </style>\n",
              "\n",
              "      <script>\n",
              "        const buttonEl =\n",
              "          document.querySelector('#df-a01f3e4a-4d6a-4fcb-8361-e5a9890b9c23 button.colab-df-convert');\n",
              "        buttonEl.style.display =\n",
              "          google.colab.kernel.accessAllowed ? 'block' : 'none';\n",
              "\n",
              "        async function convertToInteractive(key) {\n",
              "          const element = document.querySelector('#df-a01f3e4a-4d6a-4fcb-8361-e5a9890b9c23');\n",
              "          const dataTable =\n",
              "            await google.colab.kernel.invokeFunction('convertToInteractive',\n",
              "                                                     [key], {});\n",
              "          if (!dataTable) return;\n",
              "\n",
              "          const docLinkHtml = 'Like what you see? Visit the ' +\n",
              "            '<a target=\"_blank\" href=https://colab.research.google.com/notebooks/data_table.ipynb>data table notebook</a>'\n",
              "            + ' to learn more about interactive tables.';\n",
              "          element.innerHTML = '';\n",
              "          dataTable['output_type'] = 'display_data';\n",
              "          await google.colab.output.renderOutput(dataTable, element);\n",
              "          const docLink = document.createElement('div');\n",
              "          docLink.innerHTML = docLinkHtml;\n",
              "          element.appendChild(docLink);\n",
              "        }\n",
              "      </script>\n",
              "    </div>\n",
              "  </div>\n",
              "  "
            ]
          },
          "metadata": {},
          "execution_count": 39
        }
      ],
      "source": [
        "training_data.describe()"
      ]
    },
    {
      "cell_type": "markdown",
      "metadata": {
        "id": "X0oMPV7mzF4p"
      },
      "source": [
        "# Separación de clase y características"
      ]
    },
    {
      "cell_type": "code",
      "source": [
        "type(training_data)"
      ],
      "metadata": {
        "colab": {
          "base_uri": "https://localhost:8080/"
        },
        "id": "g3OrOkTzC6Kw",
        "outputId": "9222ad29-e4ca-4ff5-be7a-12953c260d76"
      },
      "execution_count": null,
      "outputs": [
        {
          "output_type": "execute_result",
          "data": {
            "text/plain": [
              "pandas.core.frame.DataFrame"
            ]
          },
          "metadata": {},
          "execution_count": 4
        }
      ]
    },
    {
      "cell_type": "code",
      "execution_count": null,
      "metadata": {
        "id": "uT4cTeW4zF4q"
      },
      "outputs": [],
      "source": [
        "labels = training_data['Label'].values\n",
        "features= training_data.drop(['Label'], axis=1)"
      ]
    },
    {
      "cell_type": "code",
      "execution_count": null,
      "metadata": {
        "id": "SqDU9jUIzF4q",
        "outputId": "7bfe5a09-7d2a-4008-f2cb-8005ee4939bf",
        "colab": {
          "base_uri": "https://localhost:8080/"
        }
      },
      "outputs": [
        {
          "output_type": "execute_result",
          "data": {
            "text/plain": [
              "0"
            ]
          },
          "metadata": {},
          "execution_count": 37
        }
      ],
      "source": [
        "labels.astype('int').min()"
      ]
    },
    {
      "cell_type": "code",
      "execution_count": null,
      "metadata": {
        "id": "WAeth1cKzF4r",
        "outputId": "58db3c54-bd2a-41a4-c6d6-0553e8d53f78",
        "colab": {
          "base_uri": "https://localhost:8080/",
          "height": 424
        }
      },
      "outputs": [
        {
          "output_type": "execute_result",
          "data": {
            "text/plain": [
              "       B1   B2   B3   B4   B5   B6   B7   B8   B9  B10  ... B15991 B15992  \\\n",
              "0     100  011  100  100  001  001  011  001  100  100  ...    000    000   \n",
              "1     100  011  100  100  011  011  011  011  100  001  ...    000    000   \n",
              "2     100  011  100  001  011  011  011  011  100  001  ...    000    000   \n",
              "3     100  011  100  001  001  011  001  001  001  001  ...    000    000   \n",
              "4     100  011  001  001  001  010  010  011  011  010  ...    000    000   \n",
              "...   ...  ...  ...  ...  ...  ...  ...  ...  ...  ...  ...    ...    ...   \n",
              "1003  100  011  100  100  011  010  011  011  001  010  ...    000    000   \n",
              "1004  100  011  100  100  011  010  011  011  001  010  ...    000    000   \n",
              "1005  100  011  100  100  011  010  011  011  001  010  ...    000    000   \n",
              "1006  100  011  010  100  010  001  100  011  100  001  ...    000    000   \n",
              "1007  100  011  100  010  001  001  011  011  011  010  ...    000    000   \n",
              "\n",
              "     B15993 B15994 B15995 B15996 B15997 B15998 B15999 B16000  \n",
              "0       000    000    000    000    000    000    000    000  \n",
              "1       000    000    000    000    000    000    000    000  \n",
              "2       000    000    000    000    000    000    000    000  \n",
              "3       000    000    000    000    000    000    000    000  \n",
              "4       000    000    000    000    000    000    000    000  \n",
              "...     ...    ...    ...    ...    ...    ...    ...    ...  \n",
              "1003    000    000    000    000    000    000    000    000  \n",
              "1004    000    000    000    000    000    000    000    000  \n",
              "1005    000    000    000    000    000    000    000    000  \n",
              "1006    000    000    000    000    000    000    000    000  \n",
              "1007    000    000    000    000    000    000    000    000  \n",
              "\n",
              "[1008 rows x 16000 columns]"
            ],
            "text/html": [
              "\n",
              "  <div id=\"df-34f28da6-df55-42bb-a027-ed6aeece53e6\">\n",
              "    <div class=\"colab-df-container\">\n",
              "      <div>\n",
              "<style scoped>\n",
              "    .dataframe tbody tr th:only-of-type {\n",
              "        vertical-align: middle;\n",
              "    }\n",
              "\n",
              "    .dataframe tbody tr th {\n",
              "        vertical-align: top;\n",
              "    }\n",
              "\n",
              "    .dataframe thead th {\n",
              "        text-align: right;\n",
              "    }\n",
              "</style>\n",
              "<table border=\"1\" class=\"dataframe\">\n",
              "  <thead>\n",
              "    <tr style=\"text-align: right;\">\n",
              "      <th></th>\n",
              "      <th>B1</th>\n",
              "      <th>B2</th>\n",
              "      <th>B3</th>\n",
              "      <th>B4</th>\n",
              "      <th>B5</th>\n",
              "      <th>B6</th>\n",
              "      <th>B7</th>\n",
              "      <th>B8</th>\n",
              "      <th>B9</th>\n",
              "      <th>B10</th>\n",
              "      <th>...</th>\n",
              "      <th>B15991</th>\n",
              "      <th>B15992</th>\n",
              "      <th>B15993</th>\n",
              "      <th>B15994</th>\n",
              "      <th>B15995</th>\n",
              "      <th>B15996</th>\n",
              "      <th>B15997</th>\n",
              "      <th>B15998</th>\n",
              "      <th>B15999</th>\n",
              "      <th>B16000</th>\n",
              "    </tr>\n",
              "  </thead>\n",
              "  <tbody>\n",
              "    <tr>\n",
              "      <th>0</th>\n",
              "      <td>100</td>\n",
              "      <td>011</td>\n",
              "      <td>100</td>\n",
              "      <td>100</td>\n",
              "      <td>001</td>\n",
              "      <td>001</td>\n",
              "      <td>011</td>\n",
              "      <td>001</td>\n",
              "      <td>100</td>\n",
              "      <td>100</td>\n",
              "      <td>...</td>\n",
              "      <td>000</td>\n",
              "      <td>000</td>\n",
              "      <td>000</td>\n",
              "      <td>000</td>\n",
              "      <td>000</td>\n",
              "      <td>000</td>\n",
              "      <td>000</td>\n",
              "      <td>000</td>\n",
              "      <td>000</td>\n",
              "      <td>000</td>\n",
              "    </tr>\n",
              "    <tr>\n",
              "      <th>1</th>\n",
              "      <td>100</td>\n",
              "      <td>011</td>\n",
              "      <td>100</td>\n",
              "      <td>100</td>\n",
              "      <td>011</td>\n",
              "      <td>011</td>\n",
              "      <td>011</td>\n",
              "      <td>011</td>\n",
              "      <td>100</td>\n",
              "      <td>001</td>\n",
              "      <td>...</td>\n",
              "      <td>000</td>\n",
              "      <td>000</td>\n",
              "      <td>000</td>\n",
              "      <td>000</td>\n",
              "      <td>000</td>\n",
              "      <td>000</td>\n",
              "      <td>000</td>\n",
              "      <td>000</td>\n",
              "      <td>000</td>\n",
              "      <td>000</td>\n",
              "    </tr>\n",
              "    <tr>\n",
              "      <th>2</th>\n",
              "      <td>100</td>\n",
              "      <td>011</td>\n",
              "      <td>100</td>\n",
              "      <td>001</td>\n",
              "      <td>011</td>\n",
              "      <td>011</td>\n",
              "      <td>011</td>\n",
              "      <td>011</td>\n",
              "      <td>100</td>\n",
              "      <td>001</td>\n",
              "      <td>...</td>\n",
              "      <td>000</td>\n",
              "      <td>000</td>\n",
              "      <td>000</td>\n",
              "      <td>000</td>\n",
              "      <td>000</td>\n",
              "      <td>000</td>\n",
              "      <td>000</td>\n",
              "      <td>000</td>\n",
              "      <td>000</td>\n",
              "      <td>000</td>\n",
              "    </tr>\n",
              "    <tr>\n",
              "      <th>3</th>\n",
              "      <td>100</td>\n",
              "      <td>011</td>\n",
              "      <td>100</td>\n",
              "      <td>001</td>\n",
              "      <td>001</td>\n",
              "      <td>011</td>\n",
              "      <td>001</td>\n",
              "      <td>001</td>\n",
              "      <td>001</td>\n",
              "      <td>001</td>\n",
              "      <td>...</td>\n",
              "      <td>000</td>\n",
              "      <td>000</td>\n",
              "      <td>000</td>\n",
              "      <td>000</td>\n",
              "      <td>000</td>\n",
              "      <td>000</td>\n",
              "      <td>000</td>\n",
              "      <td>000</td>\n",
              "      <td>000</td>\n",
              "      <td>000</td>\n",
              "    </tr>\n",
              "    <tr>\n",
              "      <th>4</th>\n",
              "      <td>100</td>\n",
              "      <td>011</td>\n",
              "      <td>001</td>\n",
              "      <td>001</td>\n",
              "      <td>001</td>\n",
              "      <td>010</td>\n",
              "      <td>010</td>\n",
              "      <td>011</td>\n",
              "      <td>011</td>\n",
              "      <td>010</td>\n",
              "      <td>...</td>\n",
              "      <td>000</td>\n",
              "      <td>000</td>\n",
              "      <td>000</td>\n",
              "      <td>000</td>\n",
              "      <td>000</td>\n",
              "      <td>000</td>\n",
              "      <td>000</td>\n",
              "      <td>000</td>\n",
              "      <td>000</td>\n",
              "      <td>000</td>\n",
              "    </tr>\n",
              "    <tr>\n",
              "      <th>...</th>\n",
              "      <td>...</td>\n",
              "      <td>...</td>\n",
              "      <td>...</td>\n",
              "      <td>...</td>\n",
              "      <td>...</td>\n",
              "      <td>...</td>\n",
              "      <td>...</td>\n",
              "      <td>...</td>\n",
              "      <td>...</td>\n",
              "      <td>...</td>\n",
              "      <td>...</td>\n",
              "      <td>...</td>\n",
              "      <td>...</td>\n",
              "      <td>...</td>\n",
              "      <td>...</td>\n",
              "      <td>...</td>\n",
              "      <td>...</td>\n",
              "      <td>...</td>\n",
              "      <td>...</td>\n",
              "      <td>...</td>\n",
              "      <td>...</td>\n",
              "    </tr>\n",
              "    <tr>\n",
              "      <th>1003</th>\n",
              "      <td>100</td>\n",
              "      <td>011</td>\n",
              "      <td>100</td>\n",
              "      <td>100</td>\n",
              "      <td>011</td>\n",
              "      <td>010</td>\n",
              "      <td>011</td>\n",
              "      <td>011</td>\n",
              "      <td>001</td>\n",
              "      <td>010</td>\n",
              "      <td>...</td>\n",
              "      <td>000</td>\n",
              "      <td>000</td>\n",
              "      <td>000</td>\n",
              "      <td>000</td>\n",
              "      <td>000</td>\n",
              "      <td>000</td>\n",
              "      <td>000</td>\n",
              "      <td>000</td>\n",
              "      <td>000</td>\n",
              "      <td>000</td>\n",
              "    </tr>\n",
              "    <tr>\n",
              "      <th>1004</th>\n",
              "      <td>100</td>\n",
              "      <td>011</td>\n",
              "      <td>100</td>\n",
              "      <td>100</td>\n",
              "      <td>011</td>\n",
              "      <td>010</td>\n",
              "      <td>011</td>\n",
              "      <td>011</td>\n",
              "      <td>001</td>\n",
              "      <td>010</td>\n",
              "      <td>...</td>\n",
              "      <td>000</td>\n",
              "      <td>000</td>\n",
              "      <td>000</td>\n",
              "      <td>000</td>\n",
              "      <td>000</td>\n",
              "      <td>000</td>\n",
              "      <td>000</td>\n",
              "      <td>000</td>\n",
              "      <td>000</td>\n",
              "      <td>000</td>\n",
              "    </tr>\n",
              "    <tr>\n",
              "      <th>1005</th>\n",
              "      <td>100</td>\n",
              "      <td>011</td>\n",
              "      <td>100</td>\n",
              "      <td>100</td>\n",
              "      <td>011</td>\n",
              "      <td>010</td>\n",
              "      <td>011</td>\n",
              "      <td>011</td>\n",
              "      <td>001</td>\n",
              "      <td>010</td>\n",
              "      <td>...</td>\n",
              "      <td>000</td>\n",
              "      <td>000</td>\n",
              "      <td>000</td>\n",
              "      <td>000</td>\n",
              "      <td>000</td>\n",
              "      <td>000</td>\n",
              "      <td>000</td>\n",
              "      <td>000</td>\n",
              "      <td>000</td>\n",
              "      <td>000</td>\n",
              "    </tr>\n",
              "    <tr>\n",
              "      <th>1006</th>\n",
              "      <td>100</td>\n",
              "      <td>011</td>\n",
              "      <td>010</td>\n",
              "      <td>100</td>\n",
              "      <td>010</td>\n",
              "      <td>001</td>\n",
              "      <td>100</td>\n",
              "      <td>011</td>\n",
              "      <td>100</td>\n",
              "      <td>001</td>\n",
              "      <td>...</td>\n",
              "      <td>000</td>\n",
              "      <td>000</td>\n",
              "      <td>000</td>\n",
              "      <td>000</td>\n",
              "      <td>000</td>\n",
              "      <td>000</td>\n",
              "      <td>000</td>\n",
              "      <td>000</td>\n",
              "      <td>000</td>\n",
              "      <td>000</td>\n",
              "    </tr>\n",
              "    <tr>\n",
              "      <th>1007</th>\n",
              "      <td>100</td>\n",
              "      <td>011</td>\n",
              "      <td>100</td>\n",
              "      <td>010</td>\n",
              "      <td>001</td>\n",
              "      <td>001</td>\n",
              "      <td>011</td>\n",
              "      <td>011</td>\n",
              "      <td>011</td>\n",
              "      <td>010</td>\n",
              "      <td>...</td>\n",
              "      <td>000</td>\n",
              "      <td>000</td>\n",
              "      <td>000</td>\n",
              "      <td>000</td>\n",
              "      <td>000</td>\n",
              "      <td>000</td>\n",
              "      <td>000</td>\n",
              "      <td>000</td>\n",
              "      <td>000</td>\n",
              "      <td>000</td>\n",
              "    </tr>\n",
              "  </tbody>\n",
              "</table>\n",
              "<p>1008 rows × 16000 columns</p>\n",
              "</div>\n",
              "      <button class=\"colab-df-convert\" onclick=\"convertToInteractive('df-34f28da6-df55-42bb-a027-ed6aeece53e6')\"\n",
              "              title=\"Convert this dataframe to an interactive table.\"\n",
              "              style=\"display:none;\">\n",
              "        \n",
              "  <svg xmlns=\"http://www.w3.org/2000/svg\" height=\"24px\"viewBox=\"0 0 24 24\"\n",
              "       width=\"24px\">\n",
              "    <path d=\"M0 0h24v24H0V0z\" fill=\"none\"/>\n",
              "    <path d=\"M18.56 5.44l.94 2.06.94-2.06 2.06-.94-2.06-.94-.94-2.06-.94 2.06-2.06.94zm-11 1L8.5 8.5l.94-2.06 2.06-.94-2.06-.94L8.5 2.5l-.94 2.06-2.06.94zm10 10l.94 2.06.94-2.06 2.06-.94-2.06-.94-.94-2.06-.94 2.06-2.06.94z\"/><path d=\"M17.41 7.96l-1.37-1.37c-.4-.4-.92-.59-1.43-.59-.52 0-1.04.2-1.43.59L10.3 9.45l-7.72 7.72c-.78.78-.78 2.05 0 2.83L4 21.41c.39.39.9.59 1.41.59.51 0 1.02-.2 1.41-.59l7.78-7.78 2.81-2.81c.8-.78.8-2.07 0-2.86zM5.41 20L4 18.59l7.72-7.72 1.47 1.35L5.41 20z\"/>\n",
              "  </svg>\n",
              "      </button>\n",
              "      \n",
              "  <style>\n",
              "    .colab-df-container {\n",
              "      display:flex;\n",
              "      flex-wrap:wrap;\n",
              "      gap: 12px;\n",
              "    }\n",
              "\n",
              "    .colab-df-convert {\n",
              "      background-color: #E8F0FE;\n",
              "      border: none;\n",
              "      border-radius: 50%;\n",
              "      cursor: pointer;\n",
              "      display: none;\n",
              "      fill: #1967D2;\n",
              "      height: 32px;\n",
              "      padding: 0 0 0 0;\n",
              "      width: 32px;\n",
              "    }\n",
              "\n",
              "    .colab-df-convert:hover {\n",
              "      background-color: #E2EBFA;\n",
              "      box-shadow: 0px 1px 2px rgba(60, 64, 67, 0.3), 0px 1px 3px 1px rgba(60, 64, 67, 0.15);\n",
              "      fill: #174EA6;\n",
              "    }\n",
              "\n",
              "    [theme=dark] .colab-df-convert {\n",
              "      background-color: #3B4455;\n",
              "      fill: #D2E3FC;\n",
              "    }\n",
              "\n",
              "    [theme=dark] .colab-df-convert:hover {\n",
              "      background-color: #434B5C;\n",
              "      box-shadow: 0px 1px 3px 1px rgba(0, 0, 0, 0.15);\n",
              "      filter: drop-shadow(0px 1px 2px rgba(0, 0, 0, 0.3));\n",
              "      fill: #FFFFFF;\n",
              "    }\n",
              "  </style>\n",
              "\n",
              "      <script>\n",
              "        const buttonEl =\n",
              "          document.querySelector('#df-34f28da6-df55-42bb-a027-ed6aeece53e6 button.colab-df-convert');\n",
              "        buttonEl.style.display =\n",
              "          google.colab.kernel.accessAllowed ? 'block' : 'none';\n",
              "\n",
              "        async function convertToInteractive(key) {\n",
              "          const element = document.querySelector('#df-34f28da6-df55-42bb-a027-ed6aeece53e6');\n",
              "          const dataTable =\n",
              "            await google.colab.kernel.invokeFunction('convertToInteractive',\n",
              "                                                     [key], {});\n",
              "          if (!dataTable) return;\n",
              "\n",
              "          const docLinkHtml = 'Like what you see? Visit the ' +\n",
              "            '<a target=\"_blank\" href=https://colab.research.google.com/notebooks/data_table.ipynb>data table notebook</a>'\n",
              "            + ' to learn more about interactive tables.';\n",
              "          element.innerHTML = '';\n",
              "          dataTable['output_type'] = 'display_data';\n",
              "          await google.colab.output.renderOutput(dataTable, element);\n",
              "          const docLink = document.createElement('div');\n",
              "          docLink.innerHTML = docLinkHtml;\n",
              "          element.appendChild(docLink);\n",
              "        }\n",
              "      </script>\n",
              "    </div>\n",
              "  </div>\n",
              "  "
            ]
          },
          "metadata": {},
          "execution_count": 7
        }
      ],
      "source": [
        "features"
      ]
    },
    {
      "cell_type": "markdown",
      "metadata": {
        "id": "wEJP3A_4zF4o"
      },
      "source": [
        "# Imputación de datos (de ser necesario!!!)"
      ]
    },
    {
      "cell_type": "code",
      "execution_count": null,
      "metadata": {
        "id": "Gj_NZxJEzF4o",
        "outputId": "12102621-efcc-409a-bf8f-060ac6142879",
        "colab": {
          "base_uri": "https://localhost:8080/"
        }
      },
      "outputs": [
        {
          "output_type": "execute_result",
          "data": {
            "text/plain": [
              "array([[100.,  11., 100., ...,   0.,   0.,   0.],\n",
              "       [100.,  11., 100., ...,   0.,   0.,   0.],\n",
              "       [100.,  11., 100., ...,   0.,   0.,   0.],\n",
              "       ...,\n",
              "       [100.,  11., 100., ...,   0.,   0.,   0.],\n",
              "       [100.,  11.,  10., ...,   0.,   0.,   0.],\n",
              "       [100.,  11., 100., ...,   0.,   0.,   0.]])"
            ]
          },
          "metadata": {},
          "execution_count": 8
        }
      ],
      "source": [
        "from sklearn.impute import SimpleImputer\n",
        "imputer = SimpleImputer(missing_values=np.nan, strategy='median')\n",
        "imputer = imputer.fit(features)\n",
        "features = imputer.transform(features)\n",
        "features"
      ]
    },
    {
      "cell_type": "markdown",
      "metadata": {
        "id": "qOLybsSizF4r"
      },
      "source": [
        "# Descomposición en componentes principales (de ser necesario!!!)"
      ]
    },
    {
      "cell_type": "code",
      "execution_count": null,
      "metadata": {
        "id": "S1DnTDZ6zF4r",
        "outputId": "3a8deb9c-f9fa-47da-dbc5-e23a97e0d964",
        "colab": {
          "base_uri": "https://localhost:8080/"
        }
      },
      "outputs": [
        {
          "output_type": "execute_result",
          "data": {
            "text/plain": [
              "array([[-8.43298778e+02,  2.26676880e+02,  4.04980573e+02, ...,\n",
              "        -3.20635884e+01,  4.93995828e+01,  2.00355531e+01],\n",
              "       [ 7.52943679e+02, -1.75740704e+02, -6.38178202e+02, ...,\n",
              "         8.21713329e+01, -1.36297962e+02,  5.30008428e-02],\n",
              "       [ 7.54055806e+02, -2.05054127e+02, -5.96179416e+02, ...,\n",
              "         6.31386284e+01,  3.66508070e+01, -1.35625138e+02],\n",
              "       ...,\n",
              "       [-7.84903631e+02,  1.88091141e+02,  1.49139629e+02, ...,\n",
              "         2.26547941e+01,  3.53034767e+00,  4.16859326e+01],\n",
              "       [-4.39447488e+02,  2.60533763e+02, -1.83290368e+02, ...,\n",
              "         4.18492592e+01, -1.77198695e+00, -9.14069178e+01],\n",
              "       [-7.19478502e+02,  1.80355213e+02,  6.01172597e+01, ...,\n",
              "        -4.97929831e+01, -2.38113119e+01,  9.03396215e+00]])"
            ]
          },
          "metadata": {},
          "execution_count": 9
        }
      ],
      "source": [
        "from sklearn import decomposition\n",
        "pca = decomposition.PCA(n_components=100)\n",
        "pca.fit(features)\n",
        "features_PCA = pca.transform(features)\n",
        "features_PCA"
      ]
    },
    {
      "cell_type": "code",
      "source": [
        "features.shape, features_PCA.shape"
      ],
      "metadata": {
        "colab": {
          "base_uri": "https://localhost:8080/"
        },
        "id": "nxgyFtBoGJ4k",
        "outputId": "a32c0b0c-26ea-4979-ade5-a0af9e28f595"
      },
      "execution_count": null,
      "outputs": [
        {
          "output_type": "execute_result",
          "data": {
            "text/plain": [
              "((1008, 16000), (1008, 100))"
            ]
          },
          "metadata": {},
          "execution_count": 10
        }
      ]
    },
    {
      "cell_type": "markdown",
      "metadata": {
        "id": "y4VXpy8kzF4r"
      },
      "source": [
        "# Escalamiento del vector de características (de ser necesario!!!)"
      ]
    },
    {
      "cell_type": "code",
      "execution_count": null,
      "metadata": {
        "id": "4CSM4ufazF4s"
      },
      "outputs": [],
      "source": [
        "from sklearn import preprocessing\n",
        "scaler = preprocessing.StandardScaler().fit(features)\n",
        "features_scaler = scaler.transform(features)\n",
        "#desde el PCA\n",
        "scaler = preprocessing.StandardScaler().fit(features_PCA)\n",
        "features_scaler_PCA = scaler.transform(features_PCA)"
      ]
    },
    {
      "cell_type": "markdown",
      "metadata": {
        "id": "isu-ZzkCzF4s"
      },
      "source": [
        "# Segmentación de los datos para entrenamiento y pruebas"
      ]
    },
    {
      "cell_type": "code",
      "execution_count": null,
      "metadata": {
        "id": "1LO9ZQqczF4s"
      },
      "outputs": [],
      "source": [
        "from sklearn.model_selection import train_test_split\n",
        "validation_size = 0.2\n",
        "seed = 0\n",
        "X_train, X_validation, Y_train, Y_validation = train_test_split(features_PCA, labels, test_size=validation_size, random_state=seed)"
      ]
    },
    {
      "cell_type": "code",
      "execution_count": null,
      "metadata": {
        "id": "Xn5o-ErKzF4s",
        "outputId": "b5c3fa15-daa2-41b5-823c-62f8edab8bc1",
        "colab": {
          "base_uri": "https://localhost:8080/"
        }
      },
      "outputs": [
        {
          "output_type": "execute_result",
          "data": {
            "text/plain": [
              "((806, 100), (806,))"
            ]
          },
          "metadata": {},
          "execution_count": 13
        }
      ],
      "source": [
        "X_train.shape,Y_train.shape"
      ]
    },
    {
      "cell_type": "code",
      "execution_count": null,
      "metadata": {
        "id": "2PvMCJ3YzF4t",
        "outputId": "0257f76b-ebcd-49ce-e6a1-0dad0b599daf",
        "colab": {
          "base_uri": "https://localhost:8080/"
        }
      },
      "outputs": [
        {
          "output_type": "execute_result",
          "data": {
            "text/plain": [
              "array([[ -504.23648227,   583.21218074,   177.26179779, ...,\n",
              "           53.50979477,   -37.26811866,    66.19310152],\n",
              "       [ -332.11086376,   587.53283459,   -20.26574455, ...,\n",
              "          -47.9094104 ,   -40.79811207,    52.5249469 ],\n",
              "       [-1427.67788515, -1162.13032586,  -478.08347963, ...,\n",
              "            2.66442269,   -26.06517373,   -14.6012238 ],\n",
              "       ...,\n",
              "       [ 1029.5546613 ,   229.51689542,  -800.33115803, ...,\n",
              "           58.8311993 ,  -111.77155774,  -165.71844937],\n",
              "       [ 1757.0171427 ,  -502.86809235,    18.02509185, ...,\n",
              "         -314.28028555,   387.55727451,   -96.79206743],\n",
              "       [-1372.52857338, -1089.31420116,  -318.31641305, ...,\n",
              "           67.85692632,    27.49712047,   -74.17206438]])"
            ]
          },
          "metadata": {},
          "execution_count": 14
        }
      ],
      "source": [
        "X_train[0 :]"
      ]
    },
    {
      "cell_type": "markdown",
      "metadata": {
        "id": "tmI6hTpCzF4u"
      },
      "source": [
        "# 1. Algoritmo de KNN"
      ]
    },
    {
      "cell_type": "code",
      "execution_count": null,
      "metadata": {
        "id": "GI7uYJGUzF4u"
      },
      "outputs": [],
      "source": [
        "from sklearn.neighbors import KNeighborsClassifier\n",
        "KNN = KNeighborsClassifier()\n",
        "KNN.fit(X_train, Y_train)\n",
        "predictions = KNN.predict(X_validation)"
      ]
    },
    {
      "cell_type": "markdown",
      "metadata": {
        "id": "cD_kOnSjzF4u"
      },
      "source": [
        "# Resultados"
      ]
    },
    {
      "cell_type": "code",
      "execution_count": null,
      "metadata": {
        "id": "pFQ2UlXFzF4u"
      },
      "outputs": [],
      "source": [
        "def accuracy(conf):\n",
        "    total_correct = 0.\n",
        "    nb_classes = conf.shape[0]\n",
        "    for i in np.arange(0,nb_classes):\n",
        "        total_correct += conf[i][i]\n",
        "    acc = total_correct/sum(sum(conf))\n",
        "    return acc\n",
        "\n",
        "def resultados(Y_validation,predictions):\n",
        "    conf = confusion_matrix(Y_validation, predictions)\n",
        "    print ('Flow Pattern classification accuracy = %f' % accuracy(conf))\n",
        "\n",
        "    print ('Accuracy:', accuracy_score(Y_validation, predictions))\n",
        "    print ('F1 score:', f1_score(Y_validation, predictions,average='weighted'))\n",
        "    print ('Recall:', recall_score(Y_validation, predictions,\n",
        "                              average='weighted'))\n",
        "    print ('Precision:', precision_score(Y_validation, predictions,\n",
        "                                    average='weighted'))\n",
        "    print ('\\n clasification report:\\n', classification_report(Y_validation, predictions))\n",
        "    print ('\\n confussion matrix:\\n',confusion_matrix(Y_validation, predictions))"
      ]
    },
    {
      "cell_type": "code",
      "execution_count": null,
      "metadata": {
        "id": "jkSvkGsdzF4v",
        "outputId": "290fc638-9ea7-4133-c6e7-ac1897ea6efc",
        "colab": {
          "base_uri": "https://localhost:8080/"
        }
      },
      "outputs": [
        {
          "output_type": "stream",
          "name": "stdout",
          "text": [
            "Flow Pattern classification accuracy = 0.475248\n",
            "Accuracy: 0.4752475247524752\n",
            "F1 score: 0.4550222320233057\n",
            "Recall: 0.4752475247524752\n",
            "Precision: 0.5832606338741175\n",
            "\n",
            " clasification report:\n",
            "               precision    recall  f1-score   support\n",
            "\n",
            "           0       0.40      0.62      0.48        13\n",
            "           1       0.33      0.38      0.35         8\n",
            "          10       0.39      0.64      0.49        14\n",
            "          11       0.86      1.00      0.93        19\n",
            "          12       0.32      0.43      0.36        14\n",
            "          13       0.71      0.59      0.65        17\n",
            "           2       0.67      0.09      0.16        22\n",
            "           3       0.20      0.08      0.11        13\n",
            "           4       0.71      0.33      0.45        15\n",
            "           5       0.26      0.92      0.40        12\n",
            "           6       0.25      0.38      0.30         8\n",
            "           7       0.75      0.40      0.52        15\n",
            "           8       0.73      0.61      0.67        18\n",
            "           9       1.00      0.14      0.25        14\n",
            "\n",
            "    accuracy                           0.48       202\n",
            "   macro avg       0.54      0.47      0.44       202\n",
            "weighted avg       0.58      0.48      0.46       202\n",
            "\n",
            "\n",
            " confussion matrix:\n",
            " [[ 8  1  0  0  1  0  0  0  1  1  1  0  0  0]\n",
            " [ 2  3  1  0  0  0  0  0  1  1  0  0  0  0]\n",
            " [ 1  0  9  0  1  0  0  0  0  3  0  0  0  0]\n",
            " [ 0  0  0 19  0  0  0  0  0  0  0  0  0  0]\n",
            " [ 2  2  0  1  6  0  0  1  0  1  0  0  1  0]\n",
            " [ 0  1  1  1  2 10  0  0  0  1  1  0  0  0]\n",
            " [ 0  0  1  0  2  1  2  0  0 12  3  1  0  0]\n",
            " [ 3  0  3  0  3  0  0  1  0  0  0  1  2  0]\n",
            " [ 1  2  0  0  1  0  0  2  5  2  2  0  0  0]\n",
            " [ 0  0  1  0  0  0  0  0  0 11  0  0  0  0]\n",
            " [ 0  0  3  0  0  0  0  0  0  2  3  0  0  0]\n",
            " [ 1  0  1  1  2  1  1  0  0  1  0  6  1  0]\n",
            " [ 2  0  3  0  1  0  0  1  0  0  0  0 11  0]\n",
            " [ 0  0  0  0  0  2  0  0  0  8  2  0  0  2]]\n"
          ]
        }
      ],
      "source": [
        "resultados(Y_validation,predictions)"
      ]
    },
    {
      "cell_type": "markdown",
      "metadata": {
        "id": "ibHyiCJQzF4v"
      },
      "source": [
        "# 2. Algoritmo de LR"
      ]
    },
    {
      "cell_type": "code",
      "execution_count": null,
      "metadata": {
        "id": "lvhTiydzzF4v",
        "colab": {
          "base_uri": "https://localhost:8080/"
        },
        "outputId": "a5a0f21e-3aeb-42d2-ae2c-7ca7de4be735"
      },
      "outputs": [
        {
          "output_type": "stream",
          "name": "stderr",
          "text": [
            "/usr/local/lib/python3.7/dist-packages/sklearn/linear_model/_logistic.py:818: ConvergenceWarning: lbfgs failed to converge (status=1):\n",
            "STOP: TOTAL NO. of ITERATIONS REACHED LIMIT.\n",
            "\n",
            "Increase the number of iterations (max_iter) or scale the data as shown in:\n",
            "    https://scikit-learn.org/stable/modules/preprocessing.html\n",
            "Please also refer to the documentation for alternative solver options:\n",
            "    https://scikit-learn.org/stable/modules/linear_model.html#logistic-regression\n",
            "  extra_warning_msg=_LOGISTIC_SOLVER_CONVERGENCE_MSG,\n"
          ]
        }
      ],
      "source": [
        "from sklearn.linear_model import LogisticRegression\n",
        "LR = LogisticRegression()\n",
        "LR.fit(X_train, Y_train)\n",
        "predictions = LR.predict(X_validation)"
      ]
    },
    {
      "cell_type": "markdown",
      "metadata": {
        "id": "yP2g8nGrzF4v"
      },
      "source": [
        "# Resultados"
      ]
    },
    {
      "cell_type": "code",
      "execution_count": null,
      "metadata": {
        "id": "ElcRCT8LzF4w",
        "outputId": "31f791ba-bf99-4822-f513-db1815fd4cd2",
        "colab": {
          "base_uri": "https://localhost:8080/"
        }
      },
      "outputs": [
        {
          "output_type": "stream",
          "name": "stdout",
          "text": [
            "Flow Pattern classification accuracy = 0.376238\n",
            "Accuracy: 0.37623762376237624\n",
            "F1 score: 0.38092492058647476\n",
            "Recall: 0.37623762376237624\n",
            "Precision: 0.40003361923134784\n",
            "\n",
            " clasification report:\n",
            "               precision    recall  f1-score   support\n",
            "\n",
            "           0       0.58      0.54      0.56        13\n",
            "           1       0.08      0.12      0.10         8\n",
            "          10       0.36      0.29      0.32        14\n",
            "          11       0.80      0.84      0.82        19\n",
            "          12       0.17      0.21      0.19        14\n",
            "          13       0.36      0.29      0.32        17\n",
            "           2       0.38      0.23      0.29        22\n",
            "           3       0.22      0.31      0.26        13\n",
            "           4       0.25      0.27      0.26        15\n",
            "           5       0.58      0.58      0.58        12\n",
            "           6       0.14      0.25      0.18         8\n",
            "           7       0.50      0.27      0.35        15\n",
            "           8       0.29      0.28      0.29        18\n",
            "           9       0.56      0.64      0.60        14\n",
            "\n",
            "    accuracy                           0.38       202\n",
            "   macro avg       0.38      0.37      0.36       202\n",
            "weighted avg       0.40      0.38      0.38       202\n",
            "\n",
            "\n",
            " confussion matrix:\n",
            " [[ 7  2  0  0  1  0  0  1  1  0  1  0  0  0]\n",
            " [ 0  1  0  0  1  0  1  2  2  0  0  1  0  0]\n",
            " [ 0  0  4  0  0  1  2  1  0  1  0  0  3  2]\n",
            " [ 0  0  2 16  0  1  0  0  0  0  0  0  0  0]\n",
            " [ 1  1  0  2  3  2  1  0  1  1  1  0  1  0]\n",
            " [ 1  0  1  0  4  5  0  0  2  0  0  1  0  3]\n",
            " [ 0  0  1  1  2  0  5  2  1  1  6  1  1  1]\n",
            " [ 0  2  1  0  1  1  0  4  0  0  0  0  4  0]\n",
            " [ 2  1  0  0  2  0  0  2  4  2  1  0  0  1]\n",
            " [ 0  0  1  0  0  0  0  1  0  7  2  0  1  0]\n",
            " [ 0  0  0  0  1  2  1  1  0  0  2  0  1  0]\n",
            " [ 0  1  0  1  1  1  2  1  2  0  1  4  1  0]\n",
            " [ 1  3  1  0  2  0  0  3  3  0  0  0  5  0]\n",
            " [ 0  2  0  0  0  1  1  0  0  0  0  1  0  9]]\n"
          ]
        }
      ],
      "source": [
        "resultados(Y_validation,predictions)"
      ]
    },
    {
      "cell_type": "markdown",
      "metadata": {
        "id": "1Ri5JY6nzF4w"
      },
      "source": [
        "# 3. Algoritmo LDA"
      ]
    },
    {
      "cell_type": "code",
      "execution_count": null,
      "metadata": {
        "id": "nnsxwoe6zF4w"
      },
      "outputs": [],
      "source": [
        "from sklearn.discriminant_analysis import LinearDiscriminantAnalysis\n",
        "LDA = LinearDiscriminantAnalysis()\n",
        "LDA.fit(X_train, Y_train)\n",
        "predictions = LDA.predict(X_validation)"
      ]
    },
    {
      "cell_type": "markdown",
      "metadata": {
        "id": "6arDH2qKzF4w"
      },
      "source": [
        "# Resultados"
      ]
    },
    {
      "cell_type": "code",
      "execution_count": null,
      "metadata": {
        "id": "Y73Yh7B4zF4w",
        "outputId": "f28f5610-c76a-4ca8-9c9b-cd7d222c4c4b",
        "colab": {
          "base_uri": "https://localhost:8080/"
        }
      },
      "outputs": [
        {
          "output_type": "stream",
          "name": "stdout",
          "text": [
            "Flow Pattern classification accuracy = 0.524752\n",
            "Accuracy: 0.5247524752475248\n",
            "F1 score: 0.5270999242487647\n",
            "Recall: 0.5247524752475248\n",
            "Precision: 0.5702199591323063\n",
            "\n",
            " clasification report:\n",
            "               precision    recall  f1-score   support\n",
            "\n",
            "           0       0.47      0.62      0.53        13\n",
            "           1       0.33      0.50      0.40         8\n",
            "          10       0.50      0.57      0.53        14\n",
            "          11       0.79      1.00      0.88        19\n",
            "          12       0.23      0.36      0.28        14\n",
            "          13       0.70      0.41      0.52        17\n",
            "           2       0.62      0.36      0.46        22\n",
            "           3       0.27      0.23      0.25        13\n",
            "           4       0.44      0.27      0.33        15\n",
            "           5       0.57      0.67      0.62        12\n",
            "           6       0.18      0.38      0.24         8\n",
            "           7       0.86      0.40      0.55        15\n",
            "           8       0.73      0.61      0.67        18\n",
            "           9       0.80      0.86      0.83        14\n",
            "\n",
            "    accuracy                           0.52       202\n",
            "   macro avg       0.54      0.52      0.51       202\n",
            "weighted avg       0.57      0.52      0.53       202\n",
            "\n",
            "\n",
            " confussion matrix:\n",
            " [[ 8  1  0  0  2  0  0  0  0  0  2  0  0  0]\n",
            " [ 2  4  0  0  0  0  0  0  1  1  0  0  0  0]\n",
            " [ 0  0  8  0  1  0  3  0  0  1  1  0  0  0]\n",
            " [ 0  0  0 19  0  0  0  0  0  0  0  0  0  0]\n",
            " [ 0  1  0  3  5  0  1  1  1  0  1  0  1  0]\n",
            " [ 0  1  1  1  3  7  0  1  1  0  0  0  0  2]\n",
            " [ 0  0  1  0  2  2  8  1  0  1  6  1  0  0]\n",
            " [ 2  2  1  0  3  0  0  3  0  0  0  0  2  0]\n",
            " [ 1  1  1  0  0  0  0  5  4  1  1  0  0  1]\n",
            " [ 0  0  2  0  1  0  0  0  0  8  1  0  0  0]\n",
            " [ 0  0  1  0  1  0  1  0  1  1  3  0  0  0]\n",
            " [ 1  0  0  1  3  0  0  0  1  0  2  6  1  0]\n",
            " [ 3  2  1  0  1  0  0  0  0  0  0  0 11  0]\n",
            " [ 0  0  0  0  0  1  0  0  0  1  0  0  0 12]]\n"
          ]
        }
      ],
      "source": [
        "resultados(Y_validation,predictions)"
      ]
    },
    {
      "cell_type": "markdown",
      "metadata": {
        "id": "xyHSvXSNzF4x"
      },
      "source": [
        "# 4. Algoritmo NB"
      ]
    },
    {
      "cell_type": "code",
      "execution_count": null,
      "metadata": {
        "id": "zO0VYjr3zF4x"
      },
      "outputs": [],
      "source": [
        "from sklearn.naive_bayes import GaussianNB\n",
        "NB = GaussianNB()\n",
        "NB.fit(X_train, Y_train)\n",
        "predictions = NB.predict(X_validation)"
      ]
    },
    {
      "cell_type": "markdown",
      "metadata": {
        "id": "8awxw_8NzF4x"
      },
      "source": [
        "# Resultados"
      ]
    },
    {
      "cell_type": "code",
      "execution_count": null,
      "metadata": {
        "id": "EpSXw3U1zF4x",
        "outputId": "99bb4cfe-8d05-4517-85b7-2da6f89e2d1b",
        "colab": {
          "base_uri": "https://localhost:8080/"
        }
      },
      "outputs": [
        {
          "output_type": "stream",
          "name": "stdout",
          "text": [
            "Flow Pattern classification accuracy = 0.346535\n",
            "Accuracy: 0.3465346534653465\n",
            "F1 score: 0.32417165968038325\n",
            "Recall: 0.3465346534653465\n",
            "Precision: 0.42449569831202233\n",
            "\n",
            " clasification report:\n",
            "               precision    recall  f1-score   support\n",
            "\n",
            "           0       0.29      0.38      0.33        13\n",
            "           1       0.33      0.12      0.18         8\n",
            "          10       0.11      0.07      0.09        14\n",
            "          11       0.78      0.95      0.86        19\n",
            "          12       0.00      0.00      0.00        14\n",
            "          13       0.25      0.24      0.24        17\n",
            "           2       0.58      0.32      0.41        22\n",
            "           3       0.16      0.77      0.27        13\n",
            "           4       0.38      0.20      0.26        15\n",
            "           5       1.00      0.17      0.29        12\n",
            "           6       0.17      0.25      0.20         8\n",
            "           7       0.33      0.20      0.25        15\n",
            "           8       0.75      0.17      0.27        18\n",
            "           9       0.44      0.79      0.56        14\n",
            "\n",
            "    accuracy                           0.35       202\n",
            "   macro avg       0.40      0.33      0.30       202\n",
            "weighted avg       0.42      0.35      0.32       202\n",
            "\n",
            "\n",
            " confussion matrix:\n",
            " [[ 5  0  0  0  0  1  0  4  2  0  1  0  0  0]\n",
            " [ 1  1  0  0  0  0  0  4  0  0  0  1  0  1]\n",
            " [ 2  0  1  0  0  0  1  6  0  0  1  2  0  1]\n",
            " [ 1  0  0 18  0  0  0  0  0  0  0  0  0  0]\n",
            " [ 1  0  0  3  0  3  0  6  0  0  0  0  0  1]\n",
            " [ 1  2  1  1  0  4  0  3  0  0  1  0  0  4]\n",
            " [ 0  0  1  0  0  3  7  2  1  0  3  1  1  3]\n",
            " [ 2  0  0  0  0  0  1 10  0  0  0  0  0  0]\n",
            " [ 1  0  0  0  1  1  0  7  3  0  0  1  0  1]\n",
            " [ 1  0  4  0  0  1  0  0  1  2  1  0  0  2]\n",
            " [ 0  0  1  0  0  2  1  1  0  0  2  0  0  1]\n",
            " [ 0  0  1  1  0  1  1  7  0  0  1  3  0  0]\n",
            " [ 2  0  0  0  0  0  0 11  1  0  0  1  3  0]\n",
            " [ 0  0  0  0  0  0  1  0  0  0  2  0  0 11]]\n"
          ]
        }
      ],
      "source": [
        "resultados(Y_validation,predictions)"
      ]
    },
    {
      "cell_type": "markdown",
      "metadata": {
        "id": "kaYnJIV4zF4x"
      },
      "source": [
        "# 5. Algoritmo SVM"
      ]
    },
    {
      "cell_type": "markdown",
      "metadata": {
        "id": "TnKL8a4azF4x"
      },
      "source": [
        "# Escalamiento del vector de características "
      ]
    },
    {
      "cell_type": "code",
      "execution_count": null,
      "metadata": {
        "id": "IG2FSqxHzF4x"
      },
      "outputs": [],
      "source": [
        "from sklearn import preprocessing\n",
        "scaler = preprocessing.StandardScaler().fit(feature_vectors)\n",
        "feature_vectors = scaler.transform(feature_vectors)"
      ]
    },
    {
      "cell_type": "markdown",
      "metadata": {
        "id": "MH7abwSwzF4y"
      },
      "source": [
        "# Segmentación de los datos para entrenamiento y pruebas"
      ]
    },
    {
      "cell_type": "code",
      "execution_count": null,
      "metadata": {
        "id": "Hgceuxk4zF4y"
      },
      "outputs": [],
      "source": [
        "from sklearn.cross_validation import train_test_split\n",
        "validation_size = 0.2\n",
        "seed = 0\n",
        "X_train, X_validation, Y_train, Y_validation = train_test_split(feature_vectors, correct_FlowPattern_labels, test_size=validation_size, random_state=seed)"
      ]
    },
    {
      "cell_type": "markdown",
      "metadata": {
        "id": "xe1mofmpzF4y"
      },
      "source": [
        "# SVM"
      ]
    },
    {
      "cell_type": "code",
      "execution_count": null,
      "metadata": {
        "id": "JYY9wP0_zF4y"
      },
      "outputs": [],
      "source": [
        "from sklearn.svm import SVC\n",
        "SVM = SVC()\n",
        "SVM.fit(X_train, Y_train)\n",
        "predictions = SVM.predict(X_validation)"
      ]
    },
    {
      "cell_type": "markdown",
      "metadata": {
        "id": "Y8PbNnF9zF4y"
      },
      "source": [
        "# Resultados"
      ]
    },
    {
      "cell_type": "code",
      "execution_count": null,
      "metadata": {
        "id": "ACR1HHT8zF4y",
        "outputId": "9efb9352-05c8-48b4-9aaf-e15765be05bd",
        "colab": {
          "base_uri": "https://localhost:8080/"
        }
      },
      "outputs": [
        {
          "output_type": "stream",
          "name": "stdout",
          "text": [
            "Flow Pattern classification accuracy = 0.529703\n",
            "Accuracy: 0.5297029702970297\n",
            "F1 score: 0.5267165109355735\n",
            "Recall: 0.5297029702970297\n",
            "Precision: 0.6265047790409999\n",
            "\n",
            " clasification report:\n",
            "               precision    recall  f1-score   support\n",
            "\n",
            "           0       0.41      0.54      0.47        13\n",
            "           1       0.33      0.38      0.35         8\n",
            "          10       0.73      0.57      0.64        14\n",
            "          11       0.83      1.00      0.90        19\n",
            "          12       0.30      0.43      0.35        14\n",
            "          13       1.00      0.35      0.52        17\n",
            "           2       0.91      0.45      0.61        22\n",
            "           3       0.45      0.38      0.42        13\n",
            "           4       0.50      0.07      0.12        15\n",
            "           5       0.73      0.67      0.70        12\n",
            "           6       0.15      0.50      0.23         8\n",
            "           7       0.71      0.33      0.45        15\n",
            "           8       0.58      0.61      0.59        18\n",
            "           9       0.50      1.00      0.67        14\n",
            "\n",
            "    accuracy                           0.53       202\n",
            "   macro avg       0.58      0.52      0.50       202\n",
            "weighted avg       0.63      0.53      0.53       202\n",
            "\n",
            "\n",
            " confussion matrix:\n",
            " [[ 7  1  0  0  2  0  0  1  0  0  2  0  0  0]\n",
            " [ 2  3  0  0  0  0  0  0  1  0  1  0  0  1]\n",
            " [ 0  0  8  0  1  0  1  0  0  1  2  0  0  1]\n",
            " [ 0  0  0 19  0  0  0  0  0  0  0  0  0  0]\n",
            " [ 0  0  0  2  6  0  0  1  0  0  3  0  1  1]\n",
            " [ 1  1  1  1  3  6  0  0  0  0  1  0  0  3]\n",
            " [ 1  0  0  0  1  0 10  0  0  0  6  1  0  3]\n",
            " [ 1  1  0  0  3  0  0  5  0  0  1  0  2  0]\n",
            " [ 2  2  0  0  0  0  0  4  1  1  3  0  1  1]\n",
            " [ 0  0  1  0  0  0  0  0  0  8  1  0  0  2]\n",
            " [ 0  0  1  0  0  0  0  0  0  1  4  0  1  1]\n",
            " [ 0  0  0  1  3  0  0  0  0  0  2  5  3  1]\n",
            " [ 3  1  0  0  1  0  0  0  0  0  1  1 11  0]\n",
            " [ 0  0  0  0  0  0  0  0  0  0  0  0  0 14]]\n"
          ]
        }
      ],
      "source": [
        "resultados(Y_validation,predictions)"
      ]
    },
    {
      "cell_type": "markdown",
      "metadata": {
        "id": "D-81RyM1zF4y"
      },
      "source": [
        "# 5.1 Algoritmo SVM con optimización de parámetros"
      ]
    },
    {
      "cell_type": "code",
      "execution_count": null,
      "metadata": {
        "id": "0vcM7nkrzF4z",
        "colab": {
          "base_uri": "https://localhost:8080/",
          "height": 662
        },
        "outputId": "22e43260-c666-4e1d-c20c-cf3c7d114342"
      },
      "outputs": [
        {
          "output_type": "display_data",
          "data": {
            "text/plain": [
              "<Figure size 720x720 with 6 Axes>"
            ],
            "image/png": "[encoded data removed]"
          },
          "metadata": {
            "needs_background": "light"
          }
        }
      ],
      "source": [
        "#model selection takes a few minutes, change this variable\n",
        "#to true to run the parameter loop\n",
        "do_model_selection = True\n",
        "\n",
        "if do_model_selection:\n",
        "    C_range = np.array([.01, 1, 5, 10, 20, 50, 100, 1000, 5000, 10000])\n",
        "    gamma_range = np.array([0.000001, 0.001, 0.01, 0.1, 1, 10])\n",
        "    \n",
        "    fig, axes = plt.subplots(3, 2,\n",
        "                     sharex='col', sharey='row',figsize=(10,10))\n",
        "    plot_number = 0\n",
        "    for outer_ind, gamma_value in enumerate(gamma_range):\n",
        "        row = int(plot_number / 2)\n",
        "        column = int(plot_number % 2)\n",
        "        cv_errors = np.zeros(C_range.shape)\n",
        "        train_errors = np.zeros(C_range.shape)\n",
        "        for index, c_value in enumerate(C_range):\n",
        "                                                     \n",
        "            clf = SVC(C=c_value, gamma=gamma_value)\n",
        "            clf.fit(X_train,Y_train)\n",
        "                                                             \n",
        "            train_conf = confusion_matrix(Y_train, clf.predict(X_train))\n",
        "            cv_conf = confusion_matrix(Y_validation, clf.predict(X_validation))\n",
        "                                                                     \n",
        "            cv_errors[index] = accuracy(cv_conf)\n",
        "            train_errors[index] = accuracy(train_conf)\n",
        "                                                                             \n",
        "        ax = axes[row, column]\n",
        "        ax.set_title('Gamma = %g'%gamma_value)\n",
        "        ax.semilogx(C_range, cv_errors, label='CV error')\n",
        "        ax.semilogx(C_range, train_errors, label='Train error')\n",
        "        plot_number += 1\n",
        "        ax.set_ylim([0.2,1])\n",
        "                                                                                             \n",
        "    ax.legend(bbox_to_anchor=(1.05, 0), loc='lower left', borderaxespad=0.)\n",
        "    fig.text(0.5, 0.03, 'C value', ha='center',\n",
        "             fontsize=14)\n",
        "    \n",
        "    fig.text(0.04, 0.5, 'Classification Accuracy', va='center',\n",
        "             rotation='vertical', fontsize=14)\n",
        "\n",
        "    plt.show()"
      ]
    },
    {
      "cell_type": "code",
      "execution_count": null,
      "metadata": {
        "id": "Y_XuWtiVzF4z"
      },
      "outputs": [],
      "source": [
        "from sklearn.svm import SVC\n",
        "SVM = SVC(C=10, gamma=1e-6)\n",
        "SVM.fit(X_train, Y_train)\n",
        "predictions = SVM.predict(X_validation)"
      ]
    },
    {
      "cell_type": "code",
      "execution_count": null,
      "metadata": {
        "id": "Dd-AWsbCzF4z",
        "colab": {
          "base_uri": "https://localhost:8080/"
        },
        "outputId": "437f6a9d-73a6-43c7-b66d-bb7ed91f5fb4"
      },
      "outputs": [
        {
          "output_type": "stream",
          "name": "stdout",
          "text": [
            "Flow Pattern classification accuracy = 0.490099\n",
            "Accuracy: 0.4900990099009901\n",
            "F1 score: 0.46779552424773546\n",
            "Recall: 0.4900990099009901\n",
            "Precision: 0.5785496532109352\n",
            "\n",
            " clasification report:\n",
            "               precision    recall  f1-score   support\n",
            "\n",
            "           0       0.53      0.62      0.57        13\n",
            "           1       0.67      0.50      0.57         8\n",
            "          10       0.73      0.57      0.64        14\n",
            "          11       0.86      1.00      0.93        19\n",
            "          12       0.36      0.36      0.36        14\n",
            "          13       0.00      0.00      0.00        17\n",
            "           2       1.00      0.09      0.17        22\n",
            "           3       0.42      0.38      0.40        13\n",
            "           4       0.78      0.47      0.58        15\n",
            "           5       0.75      0.50      0.60        12\n",
            "           6       0.16      0.38      0.22         8\n",
            "           7       0.56      0.33      0.42        15\n",
            "           8       0.65      0.72      0.68        18\n",
            "           9       0.26      1.00      0.41        14\n",
            "\n",
            "    accuracy                           0.49       202\n",
            "   macro avg       0.55      0.49      0.47       202\n",
            "weighted avg       0.58      0.49      0.47       202\n",
            "\n",
            "\n",
            " confussion matrix:\n",
            " [[ 8  0  0  0  1  0  0  1  1  0  2  0  0  0]\n",
            " [ 0  4  0  0  0  0  0  1  0  0  1  1  0  1]\n",
            " [ 1  0  8  0  0  0  0  0  0  1  1  0  0  3]\n",
            " [ 0  0  0 19  0  0  0  0  0  0  0  0  0  0]\n",
            " [ 1  0  0  1  5  1  0  1  0  0  2  0  1  2]\n",
            " [ 0  1  1  1  2  0  0  2  0  0  1  0  0  9]\n",
            " [ 1  0  0  0  0  0  2  1  0  0  3  2  0 13]\n",
            " [ 1  0  0  0  3  0  0  5  0  0  0  0  3  1]\n",
            " [ 1  1  0  0  0  0  0  1  7  1  3  0  0  1]\n",
            " [ 0  0  1  0  0  0  0  0  0  6  0  0  0  5]\n",
            " [ 0  0  1  0  0  0  0  0  0  0  3  0  1  3]\n",
            " [ 0  0  0  1  3  0  0  0  0  0  2  5  2  2]\n",
            " [ 2  0  0  0  0  0  0  0  1  0  1  1 13  0]\n",
            " [ 0  0  0  0  0  0  0  0  0  0  0  0  0 14]]\n"
          ]
        }
      ],
      "source": [
        "resultados(Y_validation,predictions)"
      ]
    },
    {
      "cell_type": "markdown",
      "metadata": {
        "id": "5hWSIC4xzF4z"
      },
      "source": [
        "# 6 Algoritmo DL "
      ]
    },
    {
      "cell_type": "markdown",
      "metadata": {
        "id": "EEHTtHX9zF4z"
      },
      "source": [
        "# Escalamiento del vector de características "
      ]
    },
    {
      "cell_type": "code",
      "execution_count": null,
      "metadata": {
        "id": "-jEYHjeSzF4z"
      },
      "outputs": [],
      "source": [
        "from sklearn import preprocessing\n",
        "scaler = preprocessing.StandardScaler().fit(feature_vectors)\n",
        "feature_vectors = scaler.transform(feature_vectors)"
      ]
    },
    {
      "cell_type": "markdown",
      "metadata": {
        "id": "VmdEuN_zzF40"
      },
      "source": [
        "# Segmentación de los datos para entrenamiento y pruebas"
      ]
    },
    {
      "cell_type": "code",
      "execution_count": null,
      "metadata": {
        "id": "tfZt9MUezF40"
      },
      "outputs": [],
      "source": [
        "from sklearn.cross_validation import train_test_split\n",
        "validation_size = 0.2\n",
        "seed = 0\n",
        "X_train, X_validation, Y_train, Y_validation = train_test_split(feature_vectors, correct_FlowPattern_labels, test_size=validation_size, random_state=seed)"
      ]
    },
    {
      "cell_type": "markdown",
      "metadata": {
        "id": "oeWSSekqzF40"
      },
      "source": [
        "# MLP"
      ]
    },
    {
      "cell_type": "code",
      "execution_count": null,
      "metadata": {
        "id": "qhow6KLezF40",
        "colab": {
          "base_uri": "https://localhost:8080/"
        },
        "outputId": "0efccc8a-5840-4a10-9a79-a5eec563cb6c"
      },
      "outputs": [
        {
          "output_type": "stream",
          "name": "stderr",
          "text": [
            "/usr/local/lib/python3.7/dist-packages/sklearn/neural_network/_multilayer_perceptron.py:549: ConvergenceWarning: lbfgs failed to converge (status=1):\n",
            "STOP: TOTAL NO. of ITERATIONS REACHED LIMIT.\n",
            "\n",
            "Increase the number of iterations (max_iter) or scale the data as shown in:\n",
            "    https://scikit-learn.org/stable/modules/preprocessing.html\n",
            "  self.n_iter_ = _check_optimize_result(\"lbfgs\", opt_res, self.max_iter)\n"
          ]
        }
      ],
      "source": [
        "from sklearn.neural_network import MLPClassifier\n",
        "MLP = MLPClassifier(solver='lbfgs', alpha=.3,\n",
        "                    hidden_layer_sizes=(1000),\n",
        "                   )\n",
        "MLP.fit(X_train,Y_train)\n",
        "predictions = MLP.predict(X_validation)"
      ]
    },
    {
      "cell_type": "code",
      "execution_count": null,
      "metadata": {
        "id": "olbcCjqNzF40",
        "outputId": "871215d4-5351-44b2-dc58-166a64c0de65"
      },
      "outputs": [
        {
          "name": "stdout",
          "output_type": "stream",
          "text": [
            "Flow Pattern classification accuracy = 0.592516\n",
            "Accuracy: 0.5925155925155925\n",
            "F1 score: 0.5911243785988882\n",
            "Recall: 0.5925155925155925\n",
            "Precision: 0.5933717323924461\n",
            "\n",
            " clasification report:\n",
            "              precision    recall  f1-score   support\n",
            "\n",
            "          0       0.50      0.54      0.52       151\n",
            "          1       0.43      0.48      0.46       132\n",
            "         10       0.53      0.62      0.57        74\n",
            "         11       0.96      0.99      0.97       143\n",
            "         12       0.58      0.64      0.61       147\n",
            "         13       0.50      0.51      0.51       135\n",
            "          2       0.67      0.68      0.68       141\n",
            "          3       0.46      0.46      0.46       153\n",
            "          4       0.62      0.53      0.58       131\n",
            "          5       0.87      0.78      0.82       140\n",
            "          6       0.47      0.39      0.43       158\n",
            "          7       0.55      0.46      0.50       135\n",
            "          8       0.48      0.46      0.47       151\n",
            "          9       0.69      0.80      0.74       133\n",
            "\n",
            "avg / total       0.59      0.59      0.59      1924\n",
            "\n",
            "\n",
            " confussion matrix:\n",
            " [[ 82   9   6   1   5   4   2  24   7   0   3   1   7   0]\n",
            " [ 10  64   6   1   5   5   2  15   2   1   5   4  11   1]\n",
            " [  4   4  46   0   1   1   4   0   1   1   3   3   6   0]\n",
            " [  0   0   0 141   0   2   0   0   0   0   0   0   0   0]\n",
            " [  3   5   2   2  94  11   4   7   4   0   4   2   1   8]\n",
            " [  5   8   5   0  12  69   3   3   2   1   9   2   5  11]\n",
            " [  3   4   1   0   4   1  96   1   0   2  14   3   8   4]\n",
            " [ 22  12   5   0   5   6   3  71   9   0   2   4  13   1]\n",
            " [  7  14   2   0  10   5   2   3  70   1   5   5   7   0]\n",
            " [  2   0   7   0   0   0   7   0   1 109   3   5   2   4]\n",
            " [  5  11   1   1  13  17  10   4   3   5  61   5   5  17]\n",
            " [  9   8   0   0   7   6   6   8   5   4   8  62  10   2]\n",
            " [ 12  10   5   1   5   2   2  20   7   1   4  13  69   0]\n",
            " [  0   0   0   0   2   9   2   0   1   0   8   4   1 106]]\n"
          ]
        }
      ],
      "source": [
        "resultados(Y_validation,predictions)"
      ]
    },
    {
      "cell_type": "markdown",
      "metadata": {
        "id": "VeWsEQVrzF40"
      },
      "source": [
        "# 7. RandomForest"
      ]
    },
    {
      "cell_type": "markdown",
      "metadata": {
        "id": "S8OcYqa6zF40"
      },
      "source": [
        "# Escalamiento del vector de características "
      ]
    },
    {
      "cell_type": "code",
      "execution_count": null,
      "metadata": {
        "id": "myaVfJPmzF40"
      },
      "outputs": [],
      "source": [
        "from sklearn import preprocessing\n",
        "scaler = preprocessing.StandardScaler().fit(feature_vectors)\n",
        "feature_vectors = scaler.transform(feature_vectors)"
      ]
    },
    {
      "cell_type": "markdown",
      "metadata": {
        "id": "jdc0aTwfzF41"
      },
      "source": [
        "# Segmentación de los datos para entrenamiento y pruebas"
      ]
    },
    {
      "cell_type": "code",
      "execution_count": null,
      "metadata": {
        "id": "6SLV5Z29zF41"
      },
      "outputs": [],
      "source": [
        "from sklearn.cross_validation import train_test_split\n",
        "validation_size = 0.2\n",
        "seed = 0\n",
        "X_train, X_validation, Y_train, Y_validation = train_test_split(feature_vectors, correct_FlowPattern_labels, test_size=validation_size, random_state=seed)"
      ]
    },
    {
      "cell_type": "markdown",
      "metadata": {
        "id": "Y2M1vjV3zF41"
      },
      "source": [
        "# Random Forest"
      ]
    },
    {
      "cell_type": "code",
      "execution_count": null,
      "metadata": {
        "id": "9jrqaAHbzF41"
      },
      "outputs": [],
      "source": [
        "from sklearn.ensemble import RandomForestClassifier\n",
        "\n",
        "RF = RandomForestClassifier()\n",
        "RF.fit(X_train, Y_train)\n",
        "predictions = RF.predict(X_validation)"
      ]
    },
    {
      "cell_type": "code",
      "execution_count": null,
      "metadata": {
        "id": "xz2bPWT5zF41",
        "outputId": "23c222ad-7417-47bc-b7c2-b749eb778be3",
        "colab": {
          "base_uri": "https://localhost:8080/"
        }
      },
      "outputs": [
        {
          "output_type": "stream",
          "name": "stdout",
          "text": [
            "Flow Pattern classification accuracy = 0.564356\n",
            "Accuracy: 0.5643564356435643\n",
            "F1 score: 0.5633105203349796\n",
            "Recall: 0.5643564356435643\n",
            "Precision: 0.6272977088050042\n",
            "\n",
            " clasification report:\n",
            "               precision    recall  f1-score   support\n",
            "\n",
            "           0       0.50      0.62      0.55        13\n",
            "           1       0.38      0.38      0.38         8\n",
            "          10       0.62      0.57      0.59        14\n",
            "          11       0.86      1.00      0.93        19\n",
            "          12       0.30      0.43      0.35        14\n",
            "          13       1.00      0.41      0.58        17\n",
            "           2       0.71      0.45      0.56        22\n",
            "           3       0.38      0.23      0.29        13\n",
            "           4       1.00      0.40      0.57        15\n",
            "           5       0.56      0.83      0.67        12\n",
            "           6       0.24      0.62      0.34         8\n",
            "           7       0.42      0.33      0.37        15\n",
            "           8       0.61      0.61      0.61        18\n",
            "           9       0.68      0.93      0.79        14\n",
            "\n",
            "    accuracy                           0.56       202\n",
            "   macro avg       0.59      0.56      0.54       202\n",
            "weighted avg       0.63      0.56      0.56       202\n",
            "\n",
            "\n",
            " confussion matrix:\n",
            " [[ 8  0  0  0  2  0  0  0  0  1  1  1  0  0]\n",
            " [ 0  3  0  0  0  0  0  3  0  0  0  1  0  1]\n",
            " [ 0  0  8  0  1  0  0  0  0  4  1  0  0  0]\n",
            " [ 0  0  0 19  0  0  0  0  0  0  0  0  0  0]\n",
            " [ 1  0  0  1  6  0  1  1  0  0  3  0  1  0]\n",
            " [ 0  0  1  1  3  7  0  0  0  0  1  1  0  3]\n",
            " [ 1  1  1  0  1  0 10  0  0  2  5  1  0  0]\n",
            " [ 1  1  0  0  3  0  1  3  0  0  0  1  3  0]\n",
            " [ 1  1  0  0  0  0  0  1  6  1  3  0  1  1]\n",
            " [ 0  0  1  0  0  0  0  0  0 10  0  0  0  1]\n",
            " [ 0  0  1  0  0  0  1  0  0  0  5  1  0  0]\n",
            " [ 1  1  1  1  2  0  1  0  0  0  1  5  2  0]\n",
            " [ 3  1  0  0  2  0  0  0  0  0  0  1 11  0]\n",
            " [ 0  0  0  0  0  0  0  0  0  0  1  0  0 13]]\n"
          ]
        }
      ],
      "source": [
        "resultados(Y_validation, predictions)"
      ]
    },
    {
      "cell_type": "code",
      "source": [
        "from sklearn.model_selection import GridSearchCV\n",
        "# Create the parameter grid based on the results of random search \n",
        "param_grid = {\n",
        "    #'bootstrap': [True],\n",
        "    'max_depth': [80, 90, 100, 110],\n",
        "    #'max_features': [2, 3],\n",
        "    #'min_samples_leaf': [3, 4, 5],\n",
        "    #'min_samples_split': [8, 10, 12],\n",
        "    'n_estimators': [100, 200, 300, 1000]\n",
        "}\n",
        "# Create a based model\n",
        "RF = RandomForestClassifier()\n",
        "# Instantiate the grid search model\n",
        "grid_search = GridSearchCV(estimator = RF, param_grid = param_grid, verbose=10)"
      ],
      "metadata": {
        "id": "PL1WijEJKJf1"
      },
      "execution_count": null,
      "outputs": []
    },
    {
      "cell_type": "code",
      "source": [
        "# Fit the grid search to the data\n",
        "grid_search.fit(X_train, Y_train)"
      ],
      "metadata": {
        "colab": {
          "base_uri": "https://localhost:8080/"
        },
        "id": "OYvpylqJKcKf",
        "outputId": "7807b894-eaea-44da-8620-a600011b7af1"
      },
      "execution_count": null,
      "outputs": [
        {
          "output_type": "stream",
          "name": "stdout",
          "text": [
            "Fitting 5 folds for each of 16 candidates, totalling 80 fits\n",
            "[CV 1/5; 1/16] START max_depth=80, n_estimators=100.............................\n",
            "[CV 1/5; 1/16] END max_depth=80, n_estimators=100;, score=0.531 total time=   1.1s\n",
            "[CV 2/5; 1/16] START max_depth=80, n_estimators=100.............................\n",
            "[CV 2/5; 1/16] END max_depth=80, n_estimators=100;, score=0.534 total time=   1.0s\n",
            "[CV 3/5; 1/16] START max_depth=80, n_estimators=100.............................\n",
            "[CV 3/5; 1/16] END max_depth=80, n_estimators=100;, score=0.584 total time=   1.0s\n",
            "[CV 4/5; 1/16] START max_depth=80, n_estimators=100.............................\n",
            "[CV 4/5; 1/16] END max_depth=80, n_estimators=100;, score=0.578 total time=   1.0s\n",
            "[CV 5/5; 1/16] START max_depth=80, n_estimators=100.............................\n",
            "[CV 5/5; 1/16] END max_depth=80, n_estimators=100;, score=0.578 total time=   1.1s\n",
            "[CV 1/5; 2/16] START max_depth=80, n_estimators=200.............................\n",
            "[CV 1/5; 2/16] END max_depth=80, n_estimators=200;, score=0.512 total time=   1.5s\n",
            "[CV 2/5; 2/16] START max_depth=80, n_estimators=200.............................\n",
            "[CV 2/5; 2/16] END max_depth=80, n_estimators=200;, score=0.534 total time=   1.3s\n",
            "[CV 3/5; 2/16] START max_depth=80, n_estimators=200.............................\n",
            "[CV 3/5; 2/16] END max_depth=80, n_estimators=200;, score=0.596 total time=   1.3s\n",
            "[CV 4/5; 2/16] START max_depth=80, n_estimators=200.............................\n",
            "[CV 4/5; 2/16] END max_depth=80, n_estimators=200;, score=0.584 total time=   1.3s\n",
            "[CV 5/5; 2/16] START max_depth=80, n_estimators=200.............................\n",
            "[CV 5/5; 2/16] END max_depth=80, n_estimators=200;, score=0.609 total time=   1.3s\n",
            "[CV 1/5; 3/16] START max_depth=80, n_estimators=300.............................\n",
            "[CV 1/5; 3/16] END max_depth=80, n_estimators=300;, score=0.519 total time=   1.9s\n",
            "[CV 2/5; 3/16] START max_depth=80, n_estimators=300.............................\n",
            "[CV 2/5; 3/16] END max_depth=80, n_estimators=300;, score=0.553 total time=   1.9s\n",
            "[CV 3/5; 3/16] START max_depth=80, n_estimators=300.............................\n",
            "[CV 3/5; 3/16] END max_depth=80, n_estimators=300;, score=0.609 total time=   1.9s\n",
            "[CV 4/5; 3/16] START max_depth=80, n_estimators=300.............................\n",
            "[CV 4/5; 3/16] END max_depth=80, n_estimators=300;, score=0.584 total time=   1.9s\n",
            "[CV 5/5; 3/16] START max_depth=80, n_estimators=300.............................\n",
            "[CV 5/5; 3/16] END max_depth=80, n_estimators=300;, score=0.602 total time=   1.9s\n",
            "[CV 1/5; 4/16] START max_depth=80, n_estimators=1000............................\n",
            "[CV 1/5; 4/16] END max_depth=80, n_estimators=1000;, score=0.531 total time=   6.3s\n",
            "[CV 2/5; 4/16] START max_depth=80, n_estimators=1000............................\n",
            "[CV 2/5; 4/16] END max_depth=80, n_estimators=1000;, score=0.528 total time=  10.7s\n",
            "[CV 3/5; 4/16] START max_depth=80, n_estimators=1000............................\n",
            "[CV 3/5; 4/16] END max_depth=80, n_estimators=1000;, score=0.609 total time=   6.4s\n",
            "[CV 4/5; 4/16] START max_depth=80, n_estimators=1000............................\n",
            "[CV 4/5; 4/16] END max_depth=80, n_estimators=1000;, score=0.565 total time=   6.3s\n",
            "[CV 5/5; 4/16] START max_depth=80, n_estimators=1000............................\n",
            "[CV 5/5; 4/16] END max_depth=80, n_estimators=1000;, score=0.602 total time=   6.3s\n",
            "[CV 1/5; 5/16] START max_depth=90, n_estimators=100.............................\n",
            "[CV 1/5; 5/16] END max_depth=90, n_estimators=100;, score=0.506 total time=   0.6s\n",
            "[CV 2/5; 5/16] START max_depth=90, n_estimators=100.............................\n",
            "[CV 2/5; 5/16] END max_depth=90, n_estimators=100;, score=0.540 total time=   0.6s\n",
            "[CV 3/5; 5/16] START max_depth=90, n_estimators=100.............................\n",
            "[CV 3/5; 5/16] END max_depth=90, n_estimators=100;, score=0.584 total time=   0.6s\n",
            "[CV 4/5; 5/16] START max_depth=90, n_estimators=100.............................\n",
            "[CV 4/5; 5/16] END max_depth=90, n_estimators=100;, score=0.565 total time=   0.6s\n",
            "[CV 5/5; 5/16] START max_depth=90, n_estimators=100.............................\n",
            "[CV 5/5; 5/16] END max_depth=90, n_estimators=100;, score=0.584 total time=   0.6s\n",
            "[CV 1/5; 6/16] START max_depth=90, n_estimators=200.............................\n",
            "[CV 1/5; 6/16] END max_depth=90, n_estimators=200;, score=0.512 total time=   1.3s\n",
            "[CV 2/5; 6/16] START max_depth=90, n_estimators=200.............................\n",
            "[CV 2/5; 6/16] END max_depth=90, n_estimators=200;, score=0.534 total time=   1.3s\n",
            "[CV 3/5; 6/16] START max_depth=90, n_estimators=200.............................\n",
            "[CV 3/5; 6/16] END max_depth=90, n_estimators=200;, score=0.590 total time=   1.3s\n",
            "[CV 4/5; 6/16] START max_depth=90, n_estimators=200.............................\n",
            "[CV 4/5; 6/16] END max_depth=90, n_estimators=200;, score=0.571 total time=   1.3s\n",
            "[CV 5/5; 6/16] START max_depth=90, n_estimators=200.............................\n",
            "[CV 5/5; 6/16] END max_depth=90, n_estimators=200;, score=0.602 total time=   1.3s\n",
            "[CV 1/5; 7/16] START max_depth=90, n_estimators=300.............................\n",
            "[CV 1/5; 7/16] END max_depth=90, n_estimators=300;, score=0.531 total time=   1.9s\n",
            "[CV 2/5; 7/16] START max_depth=90, n_estimators=300.............................\n",
            "[CV 2/5; 7/16] END max_depth=90, n_estimators=300;, score=0.540 total time=   1.9s\n",
            "[CV 3/5; 7/16] START max_depth=90, n_estimators=300.............................\n",
            "[CV 3/5; 7/16] END max_depth=90, n_estimators=300;, score=0.596 total time=   1.9s\n",
            "[CV 4/5; 7/16] START max_depth=90, n_estimators=300.............................\n",
            "[CV 4/5; 7/16] END max_depth=90, n_estimators=300;, score=0.584 total time=   1.9s\n",
            "[CV 5/5; 7/16] START max_depth=90, n_estimators=300.............................\n",
            "[CV 5/5; 7/16] END max_depth=90, n_estimators=300;, score=0.571 total time=   1.9s\n",
            "[CV 1/5; 8/16] START max_depth=90, n_estimators=1000............................\n",
            "[CV 1/5; 8/16] END max_depth=90, n_estimators=1000;, score=0.537 total time=   6.3s\n",
            "[CV 2/5; 8/16] START max_depth=90, n_estimators=1000............................\n",
            "[CV 2/5; 8/16] END max_depth=90, n_estimators=1000;, score=0.547 total time=   6.4s\n",
            "[CV 3/5; 8/16] START max_depth=90, n_estimators=1000............................\n",
            "[CV 3/5; 8/16] END max_depth=90, n_estimators=1000;, score=0.609 total time=   6.7s\n",
            "[CV 4/5; 8/16] START max_depth=90, n_estimators=1000............................\n",
            "[CV 4/5; 8/16] END max_depth=90, n_estimators=1000;, score=0.584 total time=   7.0s\n",
            "[CV 5/5; 8/16] START max_depth=90, n_estimators=1000............................\n",
            "[CV 5/5; 8/16] END max_depth=90, n_estimators=1000;, score=0.602 total time=   6.7s\n",
            "[CV 1/5; 9/16] START max_depth=100, n_estimators=100............................\n",
            "[CV 1/5; 9/16] END max_depth=100, n_estimators=100;, score=0.549 total time=   0.6s\n",
            "[CV 2/5; 9/16] START max_depth=100, n_estimators=100............................\n",
            "[CV 2/5; 9/16] END max_depth=100, n_estimators=100;, score=0.509 total time=   0.6s\n",
            "[CV 3/5; 9/16] START max_depth=100, n_estimators=100............................\n",
            "[CV 3/5; 9/16] END max_depth=100, n_estimators=100;, score=0.571 total time=   0.7s\n",
            "[CV 4/5; 9/16] START max_depth=100, n_estimators=100............................\n",
            "[CV 4/5; 9/16] END max_depth=100, n_estimators=100;, score=0.571 total time=   0.6s\n",
            "[CV 5/5; 9/16] START max_depth=100, n_estimators=100............................\n",
            "[CV 5/5; 9/16] END max_depth=100, n_estimators=100;, score=0.584 total time=   0.7s\n",
            "[CV 1/5; 10/16] START max_depth=100, n_estimators=200...........................\n",
            "[CV 1/5; 10/16] END max_depth=100, n_estimators=200;, score=0.525 total time=   1.3s\n",
            "[CV 2/5; 10/16] START max_depth=100, n_estimators=200...........................\n",
            "[CV 2/5; 10/16] END max_depth=100, n_estimators=200;, score=0.540 total time=   1.3s\n",
            "[CV 3/5; 10/16] START max_depth=100, n_estimators=200...........................\n",
            "[CV 3/5; 10/16] END max_depth=100, n_estimators=200;, score=0.609 total time=   1.3s\n",
            "[CV 4/5; 10/16] START max_depth=100, n_estimators=200...........................\n",
            "[CV 4/5; 10/16] END max_depth=100, n_estimators=200;, score=0.584 total time=   1.3s\n",
            "[CV 5/5; 10/16] START max_depth=100, n_estimators=200...........................\n",
            "[CV 5/5; 10/16] END max_depth=100, n_estimators=200;, score=0.590 total time=   1.3s\n",
            "[CV 1/5; 11/16] START max_depth=100, n_estimators=300...........................\n",
            "[CV 1/5; 11/16] END max_depth=100, n_estimators=300;, score=0.519 total time=   1.9s\n",
            "[CV 2/5; 11/16] START max_depth=100, n_estimators=300...........................\n",
            "[CV 2/5; 11/16] END max_depth=100, n_estimators=300;, score=0.553 total time=   1.9s\n",
            "[CV 3/5; 11/16] START max_depth=100, n_estimators=300...........................\n",
            "[CV 3/5; 11/16] END max_depth=100, n_estimators=300;, score=0.602 total time=   1.9s\n",
            "[CV 4/5; 11/16] START max_depth=100, n_estimators=300...........................\n",
            "[CV 4/5; 11/16] END max_depth=100, n_estimators=300;, score=0.565 total time=   1.9s\n",
            "[CV 5/5; 11/16] START max_depth=100, n_estimators=300...........................\n",
            "[CV 5/5; 11/16] END max_depth=100, n_estimators=300;, score=0.578 total time=   1.9s\n",
            "[CV 1/5; 12/16] START max_depth=100, n_estimators=1000..........................\n",
            "[CV 1/5; 12/16] END max_depth=100, n_estimators=1000;, score=0.537 total time=   6.3s\n",
            "[CV 2/5; 12/16] START max_depth=100, n_estimators=1000..........................\n",
            "[CV 2/5; 12/16] END max_depth=100, n_estimators=1000;, score=0.540 total time=   6.4s\n",
            "[CV 3/5; 12/16] START max_depth=100, n_estimators=1000..........................\n",
            "[CV 3/5; 12/16] END max_depth=100, n_estimators=1000;, score=0.602 total time=   6.4s\n",
            "[CV 4/5; 12/16] START max_depth=100, n_estimators=1000..........................\n",
            "[CV 4/5; 12/16] END max_depth=100, n_estimators=1000;, score=0.584 total time=   6.3s\n",
            "[CV 5/5; 12/16] START max_depth=100, n_estimators=1000..........................\n",
            "[CV 5/5; 12/16] END max_depth=100, n_estimators=1000;, score=0.609 total time=   6.3s\n",
            "[CV 1/5; 13/16] START max_depth=110, n_estimators=100...........................\n",
            "[CV 1/5; 13/16] END max_depth=110, n_estimators=100;, score=0.525 total time=   0.6s\n",
            "[CV 2/5; 13/16] START max_depth=110, n_estimators=100...........................\n",
            "[CV 2/5; 13/16] END max_depth=110, n_estimators=100;, score=0.547 total time=   0.7s\n",
            "[CV 3/5; 13/16] START max_depth=110, n_estimators=100...........................\n",
            "[CV 3/5; 13/16] END max_depth=110, n_estimators=100;, score=0.578 total time=   0.6s\n",
            "[CV 4/5; 13/16] START max_depth=110, n_estimators=100...........................\n",
            "[CV 4/5; 13/16] END max_depth=110, n_estimators=100;, score=0.540 total time=   0.6s\n",
            "[CV 5/5; 13/16] START max_depth=110, n_estimators=100...........................\n",
            "[CV 5/5; 13/16] END max_depth=110, n_estimators=100;, score=0.565 total time=   0.6s\n",
            "[CV 1/5; 14/16] START max_depth=110, n_estimators=200...........................\n",
            "[CV 1/5; 14/16] END max_depth=110, n_estimators=200;, score=0.512 total time=   1.3s\n",
            "[CV 2/5; 14/16] START max_depth=110, n_estimators=200...........................\n",
            "[CV 2/5; 14/16] END max_depth=110, n_estimators=200;, score=0.547 total time=   1.3s\n",
            "[CV 3/5; 14/16] START max_depth=110, n_estimators=200...........................\n",
            "[CV 3/5; 14/16] END max_depth=110, n_estimators=200;, score=0.609 total time=   1.3s\n",
            "[CV 4/5; 14/16] START max_depth=110, n_estimators=200...........................\n",
            "[CV 4/5; 14/16] END max_depth=110, n_estimators=200;, score=0.590 total time=   1.3s\n",
            "[CV 5/5; 14/16] START max_depth=110, n_estimators=200...........................\n",
            "[CV 5/5; 14/16] END max_depth=110, n_estimators=200;, score=0.590 total time=   1.3s\n",
            "[CV 1/5; 15/16] START max_depth=110, n_estimators=300...........................\n",
            "[CV 1/5; 15/16] END max_depth=110, n_estimators=300;, score=0.525 total time=   1.9s\n",
            "[CV 2/5; 15/16] START max_depth=110, n_estimators=300...........................\n",
            "[CV 2/5; 15/16] END max_depth=110, n_estimators=300;, score=0.534 total time=   1.9s\n",
            "[CV 3/5; 15/16] START max_depth=110, n_estimators=300...........................\n",
            "[CV 3/5; 15/16] END max_depth=110, n_estimators=300;, score=0.615 total time=   1.9s\n",
            "[CV 4/5; 15/16] START max_depth=110, n_estimators=300...........................\n",
            "[CV 4/5; 15/16] END max_depth=110, n_estimators=300;, score=0.584 total time=   1.9s\n",
            "[CV 5/5; 15/16] START max_depth=110, n_estimators=300...........................\n",
            "[CV 5/5; 15/16] END max_depth=110, n_estimators=300;, score=0.578 total time=   1.9s\n",
            "[CV 1/5; 16/16] START max_depth=110, n_estimators=1000..........................\n",
            "[CV 1/5; 16/16] END max_depth=110, n_estimators=1000;, score=0.525 total time=   6.3s\n",
            "[CV 2/5; 16/16] START max_depth=110, n_estimators=1000..........................\n",
            "[CV 2/5; 16/16] END max_depth=110, n_estimators=1000;, score=0.534 total time=   6.4s\n",
            "[CV 3/5; 16/16] START max_depth=110, n_estimators=1000..........................\n",
            "[CV 3/5; 16/16] END max_depth=110, n_estimators=1000;, score=0.621 total time=   6.4s\n",
            "[CV 4/5; 16/16] START max_depth=110, n_estimators=1000..........................\n",
            "[CV 4/5; 16/16] END max_depth=110, n_estimators=1000;, score=0.578 total time=   6.3s\n",
            "[CV 5/5; 16/16] START max_depth=110, n_estimators=1000..........................\n",
            "[CV 5/5; 16/16] END max_depth=110, n_estimators=1000;, score=0.578 total time=   6.4s\n"
          ]
        },
        {
          "output_type": "execute_result",
          "data": {
            "text/plain": [
              "GridSearchCV(estimator=RandomForestClassifier(),\n",
              "             param_grid={'max_depth': [80, 90, 100, 110],\n",
              "                         'n_estimators': [100, 200, 300, 1000]},\n",
              "             verbose=10)"
            ]
          },
          "metadata": {},
          "execution_count": 56
        }
      ]
    },
    {
      "cell_type": "code",
      "source": [
        "print(grid_search.best_params_,grid_search.best_score_)"
      ],
      "metadata": {
        "colab": {
          "base_uri": "https://localhost:8080/"
        },
        "id": "zhbxC1HpNwdc",
        "outputId": "e15c8b9a-38e5-4908-8594-948bb3b0af8f"
      },
      "execution_count": null,
      "outputs": [
        {
          "output_type": "stream",
          "name": "stdout",
          "text": [
            "{'max_depth': 90, 'n_estimators': 1000} 0.5757303887738671\n"
          ]
        }
      ]
    },
    {
      "cell_type": "code",
      "source": [
        "predictions = grid_search.predict(X_validation)"
      ],
      "metadata": {
        "id": "RdSlM8FsOO-1"
      },
      "execution_count": null,
      "outputs": []
    },
    {
      "cell_type": "code",
      "source": [
        "resultados(Y_validation, predictions)"
      ],
      "metadata": {
        "colab": {
          "base_uri": "https://localhost:8080/"
        },
        "id": "9BisowWWOHHj",
        "outputId": "ed351245-3e1e-432a-9c67-b7c3b268351a"
      },
      "execution_count": null,
      "outputs": [
        {
          "output_type": "stream",
          "name": "stdout",
          "text": [
            "Flow Pattern classification accuracy = 0.599010\n",
            "Accuracy: 0.599009900990099\n",
            "F1 score: 0.5995264455240431\n",
            "Recall: 0.599009900990099\n",
            "Precision: 0.6559400525941871\n",
            "\n",
            " clasification report:\n",
            "               precision    recall  f1-score   support\n",
            "\n",
            "           0       0.53      0.69      0.60        13\n",
            "           1       0.50      0.50      0.50         8\n",
            "          10       0.67      0.57      0.62        14\n",
            "          11       0.90      1.00      0.95        19\n",
            "          12       0.36      0.57      0.44        14\n",
            "          13       0.86      0.35      0.50        17\n",
            "           2       0.71      0.55      0.62        22\n",
            "           3       0.50      0.31      0.38        13\n",
            "           4       0.88      0.47      0.61        15\n",
            "           5       0.60      0.75      0.67        12\n",
            "           6       0.22      0.62      0.32         8\n",
            "           7       0.62      0.33      0.43        15\n",
            "           8       0.65      0.61      0.63        18\n",
            "           9       0.74      1.00      0.85        14\n",
            "\n",
            "    accuracy                           0.60       202\n",
            "   macro avg       0.62      0.59      0.58       202\n",
            "weighted avg       0.66      0.60      0.60       202\n",
            "\n",
            "\n",
            " confussion matrix:\n",
            " [[ 9  1  0  0  1  0  0  0  0  1  1  0  0  0]\n",
            " [ 1  4  0  0  0  0  1  2  0  0  0  0  0  0]\n",
            " [ 0  0  8  0  1  0  1  0  0  2  2  0  0  0]\n",
            " [ 0  0  0 19  0  0  0  0  0  0  0  0  0  0]\n",
            " [ 0  0  0  0  8  0  1  1  0  0  3  0  1  0]\n",
            " [ 0  1  1  1  4  6  0  0  0  0  1  0  0  3]\n",
            " [ 0  0  1  0  2  0 12  0  0  2  4  1  0  0]\n",
            " [ 2  0  0  0  3  0  0  4  0  0  1  1  2  0]\n",
            " [ 1  0  0  0  0  0  0  1  7  1  3  0  1  1]\n",
            " [ 0  0  1  0  0  0  0  0  0  9  1  0  0  1]\n",
            " [ 0  0  0  0  0  0  1  0  1  0  5  1  0  0]\n",
            " [ 1  0  0  1  2  1  1  0  0  0  2  5  2  0]\n",
            " [ 3  2  1  0  1  0  0  0  0  0  0  0 11  0]\n",
            " [ 0  0  0  0  0  0  0  0  0  0  0  0  0 14]]\n"
          ]
        }
      ]
    },
    {
      "cell_type": "markdown",
      "metadata": {
        "id": "908dB_-JzF41"
      },
      "source": [
        "# 8. Desicion Tree"
      ]
    },
    {
      "cell_type": "code",
      "execution_count": null,
      "metadata": {
        "id": "3pPrTIp2zF41"
      },
      "outputs": [],
      "source": [
        "from sklearn.tree import DecisionTreeClassifier\n",
        "DT = DecisionTreeClassifier()\n",
        "DT.fit(X_train, Y_train)\n",
        "predictions =DT.predict(X_validation)"
      ]
    },
    {
      "cell_type": "code",
      "execution_count": null,
      "metadata": {
        "id": "uTCm-YyqzF42",
        "outputId": "5390d029-ab23-44ee-e91a-b54adeccd7ff",
        "colab": {
          "base_uri": "https://localhost:8080/"
        }
      },
      "outputs": [
        {
          "output_type": "stream",
          "name": "stdout",
          "text": [
            "Flow Pattern classification accuracy = 0.465347\n",
            "Accuracy: 0.46534653465346537\n",
            "F1 score: 0.47417438835003173\n",
            "Recall: 0.46534653465346537\n",
            "Precision: 0.506709275484756\n",
            "\n",
            " clasification report:\n",
            "               precision    recall  f1-score   support\n",
            "\n",
            "           0       0.41      0.54      0.47        13\n",
            "           1       0.06      0.12      0.08         8\n",
            "          10       0.38      0.36      0.37        14\n",
            "          11       0.83      0.79      0.81        19\n",
            "          12       0.35      0.43      0.39        14\n",
            "          13       0.50      0.35      0.41        17\n",
            "           2       0.81      0.59      0.68        22\n",
            "           3       0.25      0.31      0.28        13\n",
            "           4       0.50      0.20      0.29        15\n",
            "           5       0.60      0.75      0.67        12\n",
            "           6       0.21      0.38      0.27         8\n",
            "           7       0.40      0.27      0.32        15\n",
            "           8       0.50      0.44      0.47        18\n",
            "           9       0.67      0.71      0.69        14\n",
            "\n",
            "    accuracy                           0.47       202\n",
            "   macro avg       0.46      0.45      0.44       202\n",
            "weighted avg       0.51      0.47      0.47       202\n",
            "\n",
            "\n",
            " confussion matrix:\n",
            " [[ 7  1  1  0  1  0  0  0  1  0  1  1  0  0]\n",
            " [ 2  1  1  0  0  0  0  1  0  0  2  0  1  0]\n",
            " [ 1  2  5  0  0  1  0  1  0  0  1  1  1  1]\n",
            " [ 0  2  0 15  0  2  0  0  0  0  0  0  0  0]\n",
            " [ 0  3  0  1  6  1  0  2  0  0  0  1  0  0]\n",
            " [ 1  0  1  1  2  6  0  0  1  1  1  0  0  3]\n",
            " [ 2  0  0  0  2  0 13  0  0  2  2  1  0  0]\n",
            " [ 0  1  1  0  2  0  0  4  1  0  0  1  3  0]\n",
            " [ 1  4  1  0  1  0  0  3  3  1  1  0  0  0]\n",
            " [ 0  0  1  0  1  0  0  0  0  9  0  0  0  1]\n",
            " [ 1  0  0  0  0  1  1  0  0  1  3  1  0  0]\n",
            " [ 0  0  1  1  2  1  1  2  0  0  1  4  2  0]\n",
            " [ 2  3  1  0  0  0  0  3  0  1  0  0  8  0]\n",
            " [ 0  0  0  0  0  0  1  0  0  0  2  0  1 10]]\n"
          ]
        }
      ],
      "source": [
        "resultados(Y_validation,predictions)"
      ]
    },
    {
      "cell_type": "markdown",
      "source": [
        "# Ejercicio\n",
        "\n",
        "Realizar optimización de parametros sobre DT"
      ],
      "metadata": {
        "id": "D2bR7FTlOpLa"
      }
    },
    {
      "cell_type": "markdown",
      "metadata": {
        "id": "7NM9lwPwzF4t"
      },
      "source": [
        "# Evaluación inicial del compartamiento de cada uno de los modelos"
      ]
    },
    {
      "cell_type": "code",
      "execution_count": null,
      "metadata": {
        "id": "3sSdUHsGzF4t",
        "colab": {
          "base_uri": "https://localhost:8080/"
        },
        "outputId": "de9efcdd-115c-445b-bb25-e9c67a88be95"
      },
      "outputs": [
        {
          "output_type": "stream",
          "name": "stderr",
          "text": [
            "/usr/local/lib/python3.7/dist-packages/sklearn/linear_model/_logistic.py:818: ConvergenceWarning: lbfgs failed to converge (status=1):\n",
            "STOP: TOTAL NO. of ITERATIONS REACHED LIMIT.\n",
            "\n",
            "Increase the number of iterations (max_iter) or scale the data as shown in:\n",
            "    https://scikit-learn.org/stable/modules/preprocessing.html\n",
            "Please also refer to the documentation for alternative solver options:\n",
            "    https://scikit-learn.org/stable/modules/linear_model.html#logistic-regression\n",
            "  extra_warning_msg=_LOGISTIC_SOLVER_CONVERGENCE_MSG,\n",
            "/usr/local/lib/python3.7/dist-packages/sklearn/linear_model/_logistic.py:818: ConvergenceWarning: lbfgs failed to converge (status=1):\n",
            "STOP: TOTAL NO. of ITERATIONS REACHED LIMIT.\n",
            "\n",
            "Increase the number of iterations (max_iter) or scale the data as shown in:\n",
            "    https://scikit-learn.org/stable/modules/preprocessing.html\n",
            "Please also refer to the documentation for alternative solver options:\n",
            "    https://scikit-learn.org/stable/modules/linear_model.html#logistic-regression\n",
            "  extra_warning_msg=_LOGISTIC_SOLVER_CONVERGENCE_MSG,\n",
            "/usr/local/lib/python3.7/dist-packages/sklearn/linear_model/_logistic.py:818: ConvergenceWarning: lbfgs failed to converge (status=1):\n",
            "STOP: TOTAL NO. of ITERATIONS REACHED LIMIT.\n",
            "\n",
            "Increase the number of iterations (max_iter) or scale the data as shown in:\n",
            "    https://scikit-learn.org/stable/modules/preprocessing.html\n",
            "Please also refer to the documentation for alternative solver options:\n",
            "    https://scikit-learn.org/stable/modules/linear_model.html#logistic-regression\n",
            "  extra_warning_msg=_LOGISTIC_SOLVER_CONVERGENCE_MSG,\n",
            "/usr/local/lib/python3.7/dist-packages/sklearn/linear_model/_logistic.py:818: ConvergenceWarning: lbfgs failed to converge (status=1):\n",
            "STOP: TOTAL NO. of ITERATIONS REACHED LIMIT.\n",
            "\n",
            "Increase the number of iterations (max_iter) or scale the data as shown in:\n",
            "    https://scikit-learn.org/stable/modules/preprocessing.html\n",
            "Please also refer to the documentation for alternative solver options:\n",
            "    https://scikit-learn.org/stable/modules/linear_model.html#logistic-regression\n",
            "  extra_warning_msg=_LOGISTIC_SOLVER_CONVERGENCE_MSG,\n",
            "/usr/local/lib/python3.7/dist-packages/sklearn/linear_model/_logistic.py:818: ConvergenceWarning: lbfgs failed to converge (status=1):\n",
            "STOP: TOTAL NO. of ITERATIONS REACHED LIMIT.\n",
            "\n",
            "Increase the number of iterations (max_iter) or scale the data as shown in:\n",
            "    https://scikit-learn.org/stable/modules/preprocessing.html\n",
            "Please also refer to the documentation for alternative solver options:\n",
            "    https://scikit-learn.org/stable/modules/linear_model.html#logistic-regression\n",
            "  extra_warning_msg=_LOGISTIC_SOLVER_CONVERGENCE_MSG,\n",
            "/usr/local/lib/python3.7/dist-packages/sklearn/linear_model/_logistic.py:818: ConvergenceWarning: lbfgs failed to converge (status=1):\n",
            "STOP: TOTAL NO. of ITERATIONS REACHED LIMIT.\n",
            "\n",
            "Increase the number of iterations (max_iter) or scale the data as shown in:\n",
            "    https://scikit-learn.org/stable/modules/preprocessing.html\n",
            "Please also refer to the documentation for alternative solver options:\n",
            "    https://scikit-learn.org/stable/modules/linear_model.html#logistic-regression\n",
            "  extra_warning_msg=_LOGISTIC_SOLVER_CONVERGENCE_MSG,\n",
            "/usr/local/lib/python3.7/dist-packages/sklearn/linear_model/_logistic.py:818: ConvergenceWarning: lbfgs failed to converge (status=1):\n",
            "STOP: TOTAL NO. of ITERATIONS REACHED LIMIT.\n",
            "\n",
            "Increase the number of iterations (max_iter) or scale the data as shown in:\n",
            "    https://scikit-learn.org/stable/modules/preprocessing.html\n",
            "Please also refer to the documentation for alternative solver options:\n",
            "    https://scikit-learn.org/stable/modules/linear_model.html#logistic-regression\n",
            "  extra_warning_msg=_LOGISTIC_SOLVER_CONVERGENCE_MSG,\n",
            "/usr/local/lib/python3.7/dist-packages/sklearn/linear_model/_logistic.py:818: ConvergenceWarning: lbfgs failed to converge (status=1):\n",
            "STOP: TOTAL NO. of ITERATIONS REACHED LIMIT.\n",
            "\n",
            "Increase the number of iterations (max_iter) or scale the data as shown in:\n",
            "    https://scikit-learn.org/stable/modules/preprocessing.html\n",
            "Please also refer to the documentation for alternative solver options:\n",
            "    https://scikit-learn.org/stable/modules/linear_model.html#logistic-regression\n",
            "  extra_warning_msg=_LOGISTIC_SOLVER_CONVERGENCE_MSG,\n",
            "/usr/local/lib/python3.7/dist-packages/sklearn/linear_model/_logistic.py:818: ConvergenceWarning: lbfgs failed to converge (status=1):\n",
            "STOP: TOTAL NO. of ITERATIONS REACHED LIMIT.\n",
            "\n",
            "Increase the number of iterations (max_iter) or scale the data as shown in:\n",
            "    https://scikit-learn.org/stable/modules/preprocessing.html\n",
            "Please also refer to the documentation for alternative solver options:\n",
            "    https://scikit-learn.org/stable/modules/linear_model.html#logistic-regression\n",
            "  extra_warning_msg=_LOGISTIC_SOLVER_CONVERGENCE_MSG,\n",
            "/usr/local/lib/python3.7/dist-packages/sklearn/linear_model/_logistic.py:818: ConvergenceWarning: lbfgs failed to converge (status=1):\n",
            "STOP: TOTAL NO. of ITERATIONS REACHED LIMIT.\n",
            "\n",
            "Increase the number of iterations (max_iter) or scale the data as shown in:\n",
            "    https://scikit-learn.org/stable/modules/preprocessing.html\n",
            "Please also refer to the documentation for alternative solver options:\n",
            "    https://scikit-learn.org/stable/modules/linear_model.html#logistic-regression\n",
            "  extra_warning_msg=_LOGISTIC_SOLVER_CONVERGENCE_MSG,\n"
          ]
        },
        {
          "output_type": "stream",
          "name": "stdout",
          "text": [
            "LR: 0.445463 (0.040312)\n",
            "LDA: 0.124012 (0.036993)\n",
            "KNN: 0.114120 (0.020512)\n",
            "NB: 0.275386 (0.027040)\n",
            "SVM: 0.404429 (0.041114)\n",
            "MLP: 0.187346 (0.017884)\n",
            "RF: 0.428056 (0.040568)\n",
            "DT: 0.346265 (0.046600)\n"
          ]
        }
      ],
      "source": [
        "seed = 42\n",
        "scoring = 'accuracy'\n",
        "\n",
        "models = []\n",
        "models.append(('LR', LogisticRegression()))\n",
        "models.append(('LDA', LinearDiscriminantAnalysis()))\n",
        "models.append(('KNN', KNeighborsClassifier()))\n",
        "models.append(('NB', GaussianNB()))\n",
        "models.append(('SVM', SVC()))\n",
        "models.append(('MLP', MLPClassifier()))\n",
        "models.append(('RF', RandomForestClassifier()))\n",
        "models.append(('DT', DecisionTreeClassifier()))\n",
        "# evaluate each model in turn\n",
        "results = []\n",
        "names = []\n",
        "for name, model in models:\n",
        "    kfold = model_selection.KFold(n_splits=10, random_state=seed,shuffle=True)\n",
        "    cv_results = model_selection.cross_val_score(model, X_train, Y_train, cv=kfold, scoring=scoring)\n",
        "    results.append(cv_results)\n",
        "    names.append(name)\n",
        "    msg = \"%s: %f (%f)\" % (name, cv_results.mean(), cv_results.std())\n",
        "    print(msg)\n",
        "\n",
        "# We can also create a plot of the model evaluation results and compare the spread and the mean accuracy of each model. There is a population of accuracy measures for each algorithm because each algorithm was evaluated 10 times (10 fold cross validation).\n"
      ]
    },
    {
      "cell_type": "code",
      "execution_count": null,
      "metadata": {
        "id": "uwLiIfLKzF4u",
        "outputId": "33a9ee3e-0171-478a-9d2a-9404a40718e3"
      },
      "outputs": [
        {
          "data": {
            "image/png": "[encoded data removed]",
            "text/plain": [
              "<Figure size 432x288 with 1 Axes>"
            ]
          },
          "metadata": {},
          "output_type": "display_data"
        }
      ],
      "source": [
        "# Compare Algorithms Accuracy\n",
        "fig = plt.figure()\n",
        "fig.suptitle('Algorithm Comparison')\n",
        "ax = fig.add_subplot(111)\n",
        "plt.boxplot(results)\n",
        "ax.set_xticklabels(names)\n",
        "plt.show()"
      ]
    },
    {
      "cell_type": "markdown",
      "source": [
        "# 9. Deep Learning"
      ],
      "metadata": {
        "id": "qclyXXxtA2jc"
      }
    },
    {
      "cell_type": "code",
      "source": [
        "import tensorflow as tf\n",
        "from tensorflow import keras\n",
        "from tensorflow.keras.models import Sequential\n",
        "from tensorflow.keras import layers\n",
        "from keras.layers import Dense\n",
        "from keras.layers import Dropout"
      ],
      "metadata": {
        "id": "wGHE3v5rBKac"
      },
      "execution_count": null,
      "outputs": []
    },
    {
      "cell_type": "code",
      "source": [
        "one_hot_labels_train = keras.utils.to_categorical(Y_train, num_classes=14)\n",
        "one_hot_labels_validation = keras.utils.to_categorical(Y_validation, num_classes=14)"
      ],
      "metadata": {
        "id": "va49EOZpAzJd"
      },
      "execution_count": null,
      "outputs": []
    },
    {
      "cell_type": "code",
      "source": [
        "one_hot_labels_train"
      ],
      "metadata": {
        "colab": {
          "base_uri": "https://localhost:8080/"
        },
        "id": "jHwf7yI5BFw1",
        "outputId": "8d466cd4-8bfe-4a78-fd2e-dda6f3e11c10"
      },
      "execution_count": null,
      "outputs": [
        {
          "output_type": "execute_result",
          "data": {
            "text/plain": [
              "array([[0., 0., 1., ..., 0., 0., 0.],\n",
              "       [0., 0., 1., ..., 0., 0., 0.],\n",
              "       [0., 0., 0., ..., 1., 0., 0.],\n",
              "       ...,\n",
              "       [0., 0., 0., ..., 0., 0., 0.],\n",
              "       [0., 0., 1., ..., 0., 0., 0.],\n",
              "       [0., 0., 0., ..., 1., 0., 0.]], dtype=float32)"
            ]
          },
          "metadata": {},
          "execution_count": 28
        }
      ]
    },
    {
      "cell_type": "code",
      "source": [
        "model = Sequential()\n",
        "model.add(Dense(64, activation='relu', input_dim=X_train.shape[1]))\n",
        "#model.add(Dropout(0.5))\n",
        "model.add(Dense(128, activation='relu',))\n",
        "model.add(Dense(200, activation='relu',))\n",
        "#model.add(Dense(200, activation='relu',))\n",
        "model.add(Dense(64, activation='relu',))\n",
        "#model.add(Dense(100, activation='relu',))\n",
        "#model.add(Dense(8000, activation='relu',))\n",
        "#model.add(Dropout(0.5))\n",
        "#model.add(Dense(1000, activation='tanh',))\n",
        "#model.add(Dense(100, activation='relu',))\n",
        "model.add(Dense(14, activation='softmax'))\n",
        "model.compile(loss='categorical_crossentropy', optimizer='adam', metrics=['acc', 'mse','mae','mape'])  \n",
        "\n",
        "# summarize layers\n",
        "print(model.summary())\n",
        "\n",
        "# Convert labels to categorical one-hot encoding\n",
        "#one_hot_labels_train = keras.utils.to_categorical(Y_train, num_classes=14)\n",
        "\n",
        "# Train the model, iterating on the data in batches of 32 samples\n",
        "history=model.fit(X_train, one_hot_labels_train, epochs=50, batch_size=100)\n",
        "#plt.subplot(2,2,1)\n",
        "plt.plot(history.history['acc'])\n",
        "#plt.subplot(2,2,2)\n",
        "#plt.plot(history.history['mse'])\n",
        "#plt.subplot(2,2,3)\n",
        "#plt.plot(history.history['mae'])\n",
        "#plt.subplot(2,2,4)\n",
        "#plt.plot(history.history['mape'])\n",
        "plt.show()"
      ],
      "metadata": {
        "colab": {
          "base_uri": "https://localhost:8080/",
          "height": 1000
        },
        "id": "2pvW0jrvBz7Q",
        "outputId": "b3eb3cf6-f62a-4a66-915c-95571e8ac818"
      },
      "execution_count": null,
      "outputs": [
        {
          "output_type": "stream",
          "name": "stdout",
          "text": [
            "Model: \"sequential_5\"\n",
            "_________________________________________________________________\n",
            " Layer (type)                Output Shape              Param #   \n",
            "=================================================================\n",
            " dense_14 (Dense)            (None, 64)                6464      \n",
            "                                                                 \n",
            " dense_15 (Dense)            (None, 128)               8320      \n",
            "                                                                 \n",
            " dense_16 (Dense)            (None, 200)               25800     \n",
            "                                                                 \n",
            " dense_17 (Dense)            (None, 64)                12864     \n",
            "                                                                 \n",
            " dense_18 (Dense)            (None, 14)                910       \n",
            "                                                                 \n",
            "=================================================================\n",
            "Total params: 54,358\n",
            "Trainable params: 54,358\n",
            "Non-trainable params: 0\n",
            "_________________________________________________________________\n",
            "None\n",
            "Epoch 1/50\n",
            "9/9 [==============================] - 1s 5ms/step - loss: 40.9320 - acc: 0.1452 - mse: 0.1168 - mae: 0.1223 - mape: 61165304.0000\n",
            "Epoch 2/50\n",
            "9/9 [==============================] - 0s 7ms/step - loss: 13.0260 - acc: 0.2779 - mse: 0.0921 - mae: 0.1036 - mape: 51793044.0000\n",
            "Epoch 3/50\n",
            "9/9 [==============================] - 0s 6ms/step - loss: 7.6704 - acc: 0.3002 - mse: 0.0808 - mae: 0.1012 - mape: 50584136.0000\n",
            "Epoch 4/50\n",
            "9/9 [==============================] - 0s 8ms/step - loss: 4.4550 - acc: 0.3164 - mse: 0.0675 - mae: 0.1016 - mape: 50805788.0000\n",
            "Epoch 5/50\n",
            "9/9 [==============================] - 0s 7ms/step - loss: 2.8805 - acc: 0.3511 - mse: 0.0598 - mae: 0.0996 - mape: 49794868.0000\n",
            "Epoch 6/50\n",
            "9/9 [==============================] - 0s 7ms/step - loss: 2.4316 - acc: 0.3660 - mse: 0.0563 - mae: 0.0992 - mape: 49578040.0000\n",
            "Epoch 7/50\n",
            "9/9 [==============================] - 0s 10ms/step - loss: 1.9989 - acc: 0.4020 - mse: 0.0511 - mae: 0.0961 - mape: 48038416.0000\n",
            "Epoch 8/50\n",
            "9/9 [==============================] - 0s 9ms/step - loss: 1.8075 - acc: 0.4119 - mse: 0.0484 - mae: 0.0936 - mape: 46781860.0000\n",
            "Epoch 9/50\n",
            "9/9 [==============================] - 0s 8ms/step - loss: 1.6846 - acc: 0.4491 - mse: 0.0452 - mae: 0.0893 - mape: 44651080.0000\n",
            "Epoch 10/50\n",
            "9/9 [==============================] - 0s 6ms/step - loss: 1.6081 - acc: 0.4479 - mse: 0.0442 - mae: 0.0878 - mape: 43913700.0000\n",
            "Epoch 11/50\n",
            "9/9 [==============================] - 0s 12ms/step - loss: 1.5333 - acc: 0.4864 - mse: 0.0423 - mae: 0.0853 - mape: 42656528.0000\n",
            "Epoch 12/50\n",
            "9/9 [==============================] - 0s 7ms/step - loss: 1.4749 - acc: 0.5062 - mse: 0.0409 - mae: 0.0830 - mape: 41524904.0000\n",
            "Epoch 13/50\n",
            "9/9 [==============================] - 0s 6ms/step - loss: 1.4557 - acc: 0.5000 - mse: 0.0414 - mae: 0.0835 - mape: 41734860.0000\n",
            "Epoch 14/50\n",
            "9/9 [==============================] - 0s 8ms/step - loss: 1.4005 - acc: 0.5199 - mse: 0.0395 - mae: 0.0796 - mape: 39779360.0000\n",
            "Epoch 15/50\n",
            "9/9 [==============================] - 0s 6ms/step - loss: 1.3504 - acc: 0.5397 - mse: 0.0388 - mae: 0.0789 - mape: 39441908.0000\n",
            "Epoch 16/50\n",
            "9/9 [==============================] - 0s 6ms/step - loss: 1.3304 - acc: 0.5596 - mse: 0.0378 - mae: 0.0766 - mape: 38307220.0000\n",
            "Epoch 17/50\n",
            "9/9 [==============================] - 0s 6ms/step - loss: 1.2859 - acc: 0.5447 - mse: 0.0377 - mae: 0.0764 - mape: 38175468.0000\n",
            "Epoch 18/50\n",
            "9/9 [==============================] - 0s 6ms/step - loss: 1.2430 - acc: 0.5558 - mse: 0.0361 - mae: 0.0730 - mape: 36522824.0000\n",
            "Epoch 19/50\n",
            "9/9 [==============================] - 0s 6ms/step - loss: 1.1695 - acc: 0.5806 - mse: 0.0346 - mae: 0.0713 - mape: 35643188.0000\n",
            "Epoch 20/50\n",
            "9/9 [==============================] - 0s 5ms/step - loss: 1.2364 - acc: 0.5484 - mse: 0.0376 - mae: 0.0754 - mape: 37692132.0000\n",
            "Epoch 21/50\n",
            "9/9 [==============================] - 0s 5ms/step - loss: 1.1833 - acc: 0.5782 - mse: 0.0350 - mae: 0.0718 - mape: 35876896.0000\n",
            "Epoch 22/50\n",
            "9/9 [==============================] - 0s 8ms/step - loss: 1.1546 - acc: 0.5906 - mse: 0.0338 - mae: 0.0685 - mape: 34257080.0000\n",
            "Epoch 23/50\n",
            "9/9 [==============================] - 0s 8ms/step - loss: 1.1237 - acc: 0.5782 - mse: 0.0337 - mae: 0.0685 - mape: 34271880.0000\n",
            "Epoch 24/50\n",
            "9/9 [==============================] - 0s 7ms/step - loss: 1.0569 - acc: 0.6166 - mse: 0.0319 - mae: 0.0660 - mape: 32979206.0000\n",
            "Epoch 25/50\n",
            "9/9 [==============================] - 0s 9ms/step - loss: 1.0350 - acc: 0.6179 - mse: 0.0312 - mae: 0.0631 - mape: 31555200.0000\n",
            "Epoch 26/50\n",
            "9/9 [==============================] - 0s 8ms/step - loss: 1.0082 - acc: 0.6203 - mse: 0.0306 - mae: 0.0614 - mape: 30720148.0000\n",
            "Epoch 27/50\n",
            "9/9 [==============================] - 0s 7ms/step - loss: 0.9704 - acc: 0.6526 - mse: 0.0292 - mae: 0.0613 - mape: 30659582.0000\n",
            "Epoch 28/50\n",
            "9/9 [==============================] - 0s 6ms/step - loss: 0.9058 - acc: 0.6712 - mse: 0.0277 - mae: 0.0575 - mape: 28770952.0000\n",
            "Epoch 29/50\n",
            "9/9 [==============================] - 0s 7ms/step - loss: 0.8585 - acc: 0.6725 - mse: 0.0264 - mae: 0.0559 - mape: 27969596.0000\n",
            "Epoch 30/50\n",
            "9/9 [==============================] - 0s 10ms/step - loss: 0.8307 - acc: 0.6911 - mse: 0.0256 - mae: 0.0550 - mape: 27523586.0000\n",
            "Epoch 31/50\n",
            "9/9 [==============================] - 0s 8ms/step - loss: 0.7999 - acc: 0.7022 - mse: 0.0247 - mae: 0.0527 - mape: 26364148.0000\n",
            "Epoch 32/50\n",
            "9/9 [==============================] - 0s 7ms/step - loss: 0.7770 - acc: 0.7035 - mse: 0.0240 - mae: 0.0517 - mape: 25873108.0000\n",
            "Epoch 33/50\n",
            "9/9 [==============================] - 0s 6ms/step - loss: 0.7462 - acc: 0.7171 - mse: 0.0231 - mae: 0.0502 - mape: 25112382.0000\n",
            "Epoch 34/50\n",
            "9/9 [==============================] - 0s 7ms/step - loss: 0.7467 - acc: 0.7097 - mse: 0.0232 - mae: 0.0511 - mape: 25546604.0000\n",
            "Epoch 35/50\n",
            "9/9 [==============================] - 0s 5ms/step - loss: 0.7309 - acc: 0.7171 - mse: 0.0230 - mae: 0.0489 - mape: 24461052.0000\n",
            "Epoch 36/50\n",
            "9/9 [==============================] - 0s 5ms/step - loss: 0.6936 - acc: 0.7407 - mse: 0.0217 - mae: 0.0480 - mape: 24008188.0000\n",
            "Epoch 37/50\n",
            "9/9 [==============================] - 0s 5ms/step - loss: 0.6712 - acc: 0.7506 - mse: 0.0209 - mae: 0.0459 - mape: 22956646.0000\n",
            "Epoch 38/50\n",
            "9/9 [==============================] - 0s 6ms/step - loss: 0.6375 - acc: 0.7593 - mse: 0.0199 - mae: 0.0442 - mape: 22104606.0000\n",
            "Epoch 39/50\n",
            "9/9 [==============================] - 0s 6ms/step - loss: 0.6288 - acc: 0.7593 - mse: 0.0197 - mae: 0.0432 - mape: 21623638.0000\n",
            "Epoch 40/50\n",
            "9/9 [==============================] - 0s 5ms/step - loss: 0.6185 - acc: 0.7717 - mse: 0.0192 - mae: 0.0426 - mape: 21318290.0000\n",
            "Epoch 41/50\n",
            "9/9 [==============================] - 0s 7ms/step - loss: 0.5897 - acc: 0.7767 - mse: 0.0184 - mae: 0.0413 - mape: 20625838.0000\n",
            "Epoch 42/50\n",
            "9/9 [==============================] - 0s 8ms/step - loss: 0.5657 - acc: 0.7804 - mse: 0.0177 - mae: 0.0400 - mape: 19991820.0000\n",
            "Epoch 43/50\n",
            "9/9 [==============================] - 0s 8ms/step - loss: 0.5509 - acc: 0.7928 - mse: 0.0172 - mae: 0.0391 - mape: 19573264.0000\n",
            "Epoch 44/50\n",
            "9/9 [==============================] - 0s 6ms/step - loss: 0.5370 - acc: 0.7928 - mse: 0.0168 - mae: 0.0384 - mape: 19200110.0000\n",
            "Epoch 45/50\n",
            "9/9 [==============================] - 0s 5ms/step - loss: 0.5290 - acc: 0.8002 - mse: 0.0165 - mae: 0.0376 - mape: 18775778.0000\n",
            "Epoch 46/50\n",
            "9/9 [==============================] - 0s 8ms/step - loss: 0.5442 - acc: 0.7928 - mse: 0.0173 - mae: 0.0385 - mape: 19240050.0000\n",
            "Epoch 47/50\n",
            "9/9 [==============================] - 0s 6ms/step - loss: 0.5256 - acc: 0.8065 - mse: 0.0167 - mae: 0.0378 - mape: 18891488.0000\n",
            "Epoch 48/50\n",
            "9/9 [==============================] - 0s 6ms/step - loss: 0.5524 - acc: 0.8040 - mse: 0.0171 - mae: 0.0377 - mape: 18869740.0000\n",
            "Epoch 49/50\n",
            "9/9 [==============================] - 0s 7ms/step - loss: 0.5776 - acc: 0.7940 - mse: 0.0180 - mae: 0.0386 - mape: 19280002.0000\n",
            "Epoch 50/50\n",
            "9/9 [==============================] - 0s 7ms/step - loss: 0.5443 - acc: 0.8089 - mse: 0.0166 - mae: 0.0370 - mape: 18496558.0000\n"
          ]
        },
        {
          "output_type": "display_data",
          "data": {
            "text/plain": [
              "<Figure size 432x288 with 1 Axes>"
            ],
            "image/png": "[encoded data removed]"
          },
          "metadata": {
            "needs_background": "light"
          }
        }
      ]
    },
    {
      "cell_type": "code",
      "source": [
        "score = model.evaluate(X_validation, one_hot_labels_validation, batch_size=64)\n",
        "score"
      ],
      "metadata": {
        "colab": {
          "base_uri": "https://localhost:8080/"
        },
        "id": "RQpofR7ZB5by",
        "outputId": "097d375d-8bf3-4346-b794-e5082a76c901"
      },
      "execution_count": null,
      "outputs": [
        {
          "output_type": "stream",
          "name": "stdout",
          "text": [
            "4/4 [==============================] - 0s 6ms/step - loss: 6.7164 - acc: 0.3317 - mse: 0.0739 - mae: 0.0984 - mape: 49190184.0000\n"
          ]
        },
        {
          "output_type": "execute_result",
          "data": {
            "text/plain": [
              "[6.716403484344482,\n",
              " 0.3316831588745117,\n",
              " 0.07389137148857117,\n",
              " 0.09838036447763443,\n",
              " 49190184.0]"
            ]
          },
          "metadata": {},
          "execution_count": 32
        }
      ]
    },
    {
      "cell_type": "markdown",
      "source": [
        "# 10. Auto Machine Learning "
      ],
      "metadata": {
        "id": "Cminz2EJXaTu"
      }
    },
    {
      "cell_type": "code",
      "source": [
        "# First install package from terminal:\n",
        "# pip install -U pip\n",
        "# pip install -U setuptools wheel\n",
        "# pip install autogluon  # autogluon==0.4.0\n",
        "\n",
        "from autogluon.tabular import TabularDataset, TabularPredictor\n",
        "train_data = TabularDataset('https://autogluon.s3.amazonaws.com/datasets/Inc/train.csv')\n",
        "test_data = TabularDataset('https://autogluon.s3.amazonaws.com/datasets/Inc/test.csv')"
      ],
      "metadata": {
        "colab": {
          "base_uri": "https://localhost:8080/"
        },
        "id": "QH-IXapWVKm7",
        "outputId": "6546d806-3887-488b-9867-8fcb01800505"
      },
      "execution_count": null,
      "outputs": [
        {
          "output_type": "stream",
          "name": "stderr",
          "text": [
            "Loaded data from: https://autogluon.s3.amazonaws.com/datasets/Inc/train.csv | Columns = 15 / 15 | Rows = 39073 -> 39073\n",
            "Loaded data from: https://autogluon.s3.amazonaws.com/datasets/Inc/test.csv | Columns = 15 / 15 | Rows = 9769 -> 9769\n"
          ]
        }
      ]
    },
    {
      "cell_type": "code",
      "source": [
        "print(train_data.head())"
      ],
      "metadata": {
        "colab": {
          "base_uri": "https://localhost:8080/"
        },
        "id": "tc9VccUfc4w_",
        "outputId": "027ec439-318d-4545-c1b9-105ba3880c40"
      },
      "execution_count": null,
      "outputs": [
        {
          "output_type": "stream",
          "name": "stdout",
          "text": [
            "   age   workclass  fnlwgt   education  education-num       marital-status  \\\n",
            "0   25     Private  178478   Bachelors             13        Never-married   \n",
            "1   23   State-gov   61743     5th-6th              3        Never-married   \n",
            "2   46     Private  376789     HS-grad              9        Never-married   \n",
            "3   55           ?  200235     HS-grad              9   Married-civ-spouse   \n",
            "4   36     Private  224541     7th-8th              4   Married-civ-spouse   \n",
            "\n",
            "           occupation    relationship    race      sex  capital-gain  \\\n",
            "0        Tech-support       Own-child   White   Female             0   \n",
            "1    Transport-moving   Not-in-family   White     Male             0   \n",
            "2       Other-service   Not-in-family   White     Male             0   \n",
            "3                   ?         Husband   White     Male             0   \n",
            "4   Handlers-cleaners         Husband   White     Male             0   \n",
            "\n",
            "   capital-loss  hours-per-week  native-country   class  \n",
            "0             0              40   United-States   <=50K  \n",
            "1             0              35   United-States   <=50K  \n",
            "2             0              15   United-States   <=50K  \n",
            "3             0              50   United-States    >50K  \n",
            "4             0              40     El-Salvador   <=50K  \n"
          ]
        }
      ]
    },
    {
      "cell_type": "code",
      "source": [
        "print(train_data.describe())"
      ],
      "metadata": {
        "colab": {
          "base_uri": "https://localhost:8080/"
        },
        "id": "kTtLu5PEc72i",
        "outputId": "03ee4e2e-2cdd-49a7-a987-27f3ffd417ef"
      },
      "execution_count": null,
      "outputs": [
        {
          "output_type": "stream",
          "name": "stdout",
          "text": [
            "                age        fnlwgt  education-num  capital-gain  capital-loss  \\\n",
            "count  39073.000000  3.907300e+04   39073.000000  39073.000000  39073.000000   \n",
            "mean      38.616743  1.899605e+05      10.078085   1117.146802     88.002866   \n",
            "std       13.718529  1.055563e+05       2.569742   7701.078403    403.732117   \n",
            "min       17.000000  1.349200e+04       1.000000      0.000000      0.000000   \n",
            "25%       28.000000  1.177740e+05       9.000000      0.000000      0.000000   \n",
            "50%       37.000000  1.783410e+05      10.000000      0.000000      0.000000   \n",
            "75%       48.000000  2.383420e+05      12.000000      0.000000      0.000000   \n",
            "max       90.000000  1.490400e+06      16.000000  99999.000000   4356.000000   \n",
            "\n",
            "       hours-per-week  \n",
            "count    39073.000000  \n",
            "mean        40.407673  \n",
            "std         12.362809  \n",
            "min          1.000000  \n",
            "25%         40.000000  \n",
            "50%         40.000000  \n",
            "75%         45.000000  \n",
            "max         99.000000  \n"
          ]
        }
      ]
    },
    {
      "cell_type": "code",
      "source": [
        "predictor = TabularPredictor(label='class').fit(train_data, time_limit=120)  # Fit models for 120s"
      ],
      "metadata": {
        "colab": {
          "base_uri": "https://localhost:8080/"
        },
        "id": "Y_jk33o3cvQm",
        "outputId": "77547a7a-b1dc-4a9e-8a4e-091dd7f4bb3d"
      },
      "execution_count": null,
      "outputs": [
        {
          "output_type": "stream",
          "name": "stderr",
          "text": [
            "No path specified. Models will be saved in: \"AutogluonModels/ag-20220408_043438/\"\n",
            "Beginning AutoGluon training ... Time limit = 120s\n",
            "AutoGluon will save models to \"AutogluonModels/ag-20220408_043438/\"\n",
            "AutoGluon Version:  0.4.0\n",
            "Python Version:     3.7.13\n",
            "Operating System:   Linux\n",
            "Train Data Rows:    39073\n",
            "Train Data Columns: 14\n",
            "Label Column: class\n",
            "Preprocessing data ...\n",
            "AutoGluon infers your prediction problem is: 'binary' (because only two unique label-values observed).\n",
            "\t2 unique label values:  [' <=50K', ' >50K']\n",
            "\tIf 'binary' is not the correct problem_type, please manually specify the problem_type parameter during predictor init (You may specify problem_type as one of: ['binary', 'multiclass', 'regression'])\n",
            "Selected class <--> label mapping:  class 1 =  >50K, class 0 =  <=50K\n",
            "\tNote: For your binary classification, AutoGluon arbitrarily selected which label-value represents positive ( >50K) vs negative ( <=50K) class.\n",
            "\tTo explicitly set the positive_class, either rename classes to 1 and 0, or specify positive_class in Predictor init.\n",
            "Using Feature Generators to preprocess the data ...\n",
            "Fitting AutoMLPipelineFeatureGenerator...\n",
            "\tAvailable Memory:                    11253.43 MB\n",
            "\tTrain Data (Original)  Memory Usage: 22.92 MB (0.2% of available memory)\n",
            "\tInferring data type of each feature based on column values. Set feature_metadata_in to manually specify special dtypes of the features.\n",
            "\tStage 1 Generators:\n",
            "\t\tFitting AsTypeFeatureGenerator...\n",
            "\t\t\tNote: Converting 1 features to boolean dtype as they only contain 2 unique values.\n",
            "\tStage 2 Generators:\n",
            "\t\tFitting FillNaFeatureGenerator...\n",
            "\tStage 3 Generators:\n",
            "\t\tFitting IdentityFeatureGenerator...\n",
            "\t\tFitting CategoryFeatureGenerator...\n",
            "\t\t\tFitting CategoryMemoryMinimizeFeatureGenerator...\n",
            "\tStage 4 Generators:\n",
            "\t\tFitting DropUniqueFeatureGenerator...\n",
            "\tTypes of features in original data (raw dtype, special dtypes):\n",
            "\t\t('int', [])    : 6 | ['age', 'fnlwgt', 'education-num', 'capital-gain', 'capital-loss', ...]\n",
            "\t\t('object', []) : 8 | ['workclass', 'education', 'marital-status', 'occupation', 'relationship', ...]\n",
            "\tTypes of features in processed data (raw dtype, special dtypes):\n",
            "\t\t('category', [])  : 7 | ['workclass', 'education', 'marital-status', 'occupation', 'relationship', ...]\n",
            "\t\t('int', [])       : 6 | ['age', 'fnlwgt', 'education-num', 'capital-gain', 'capital-loss', ...]\n",
            "\t\t('int', ['bool']) : 1 | ['sex']\n",
            "\t0.4s = Fit runtime\n",
            "\t14 features in original data used to generate 14 features in processed data.\n",
            "\tTrain Data (Processed) Memory Usage: 2.19 MB (0.0% of available memory)\n",
            "Data preprocessing and feature engineering runtime = 0.5s ...\n",
            "AutoGluon will gauge predictive performance using evaluation metric: 'accuracy'\n",
            "\tTo change this, specify the eval_metric parameter of Predictor()\n",
            "Automatically generating train/validation split with holdout_frac=0.0639828014229775, Train Rows: 36573, Val Rows: 2500\n",
            "Fitting 13 L1 models ...\n",
            "Fitting model: KNeighborsUnif ... Training model for up to 119.5s of the 119.49s of remaining time.\n",
            "\t0.7752\t = Validation score   (accuracy)\n",
            "\t0.11s\t = Training   runtime\n",
            "\t0.12s\t = Validation runtime\n",
            "Fitting model: KNeighborsDist ... Training model for up to 119.25s of the 119.25s of remaining time.\n",
            "\t0.766\t = Validation score   (accuracy)\n",
            "\t0.1s\t = Training   runtime\n",
            "\t0.11s\t = Validation runtime\n",
            "Fitting model: LightGBMXT ... Training model for up to 119.01s of the 119.01s of remaining time.\n",
            "\t0.8792\t = Validation score   (accuracy)\n",
            "\t2.77s\t = Training   runtime\n",
            "\t0.08s\t = Validation runtime\n",
            "Fitting model: LightGBM ... Training model for up to 116.09s of the 116.09s of remaining time.\n",
            "\t0.8824\t = Validation score   (accuracy)\n",
            "\t1.95s\t = Training   runtime\n",
            "\t0.05s\t = Validation runtime\n",
            "Fitting model: RandomForestGini ... Training model for up to 114.05s of the 114.05s of remaining time.\n",
            "\t0.864\t = Validation score   (accuracy)\n",
            "\t9.97s\t = Training   runtime\n",
            "\t0.31s\t = Validation runtime\n",
            "Fitting model: RandomForestEntr ... Training model for up to 102.77s of the 102.77s of remaining time.\n",
            "\t0.8608\t = Validation score   (accuracy)\n",
            "\t17.41s\t = Training   runtime\n",
            "\t0.52s\t = Validation runtime\n",
            "Fitting model: CatBoost ... Training model for up to 83.74s of the 83.73s of remaining time.\n",
            "\t0.8836\t = Validation score   (accuracy)\n",
            "\t36.04s\t = Training   runtime\n",
            "\t0.03s\t = Validation runtime\n",
            "Fitting model: ExtraTreesGini ... Training model for up to 47.67s of the 47.66s of remaining time.\n",
            "\t0.8496\t = Validation score   (accuracy)\n",
            "\t6.36s\t = Training   runtime\n",
            "\t0.31s\t = Validation runtime\n",
            "Fitting model: ExtraTreesEntr ... Training model for up to 39.11s of the 39.11s of remaining time.\n",
            "\t0.8496\t = Validation score   (accuracy)\n",
            "\t6.97s\t = Training   runtime\n",
            "\t0.31s\t = Validation runtime\n",
            "Fitting model: NeuralNetFastAI ... Training model for up to 30.1s of the 30.1s of remaining time.\n",
            "\t0.8628\t = Validation score   (accuracy)\n",
            "\t29.39s\t = Training   runtime\n",
            "\t0.06s\t = Validation runtime\n",
            "Fitting model: XGBoost ... Training model for up to 0.62s of the 0.62s of remaining time.\n",
            "\t0.872\t = Validation score   (accuracy)\n",
            "\t0.67s\t = Training   runtime\n",
            "\t0.03s\t = Validation runtime\n",
            "Fitting model: WeightedEnsemble_L2 ... Training model for up to 119.5s of the -4.21s of remaining time.\n",
            "\t0.8864\t = Validation score   (accuracy)\n",
            "\t1.35s\t = Training   runtime\n",
            "\t0.01s\t = Validation runtime\n",
            "AutoGluon training complete, total runtime = 125.64s ... Best model: \"WeightedEnsemble_L2\"\n",
            "TabularPredictor saved. To load, use: predictor = TabularPredictor.load(\"AutogluonModels/ag-20220408_043438/\")\n"
          ]
        }
      ]
    },
    {
      "cell_type": "code",
      "source": [
        "performance = predictor.evaluate(test_data)"
      ],
      "metadata": {
        "colab": {
          "base_uri": "https://localhost:8080/"
        },
        "id": "nwfZ03kfdD1h",
        "outputId": "b1c8b4d3-7926-4eff-fff1-9eac358b350d"
      },
      "execution_count": null,
      "outputs": [
        {
          "output_type": "stream",
          "name": "stderr",
          "text": [
            "Evaluation: accuracy on test data: 0.8767529941652165\n",
            "Evaluations on test data:\n",
            "{\n",
            "    \"accuracy\": 0.8767529941652165,\n",
            "    \"balanced_accuracy\": 0.795126057397256,\n",
            "    \"mcc\": 0.6406203577595788,\n",
            "    \"roc_auc\": 0.9297192332441957,\n",
            "    \"f1\": 0.7112709832134292,\n",
            "    \"precision\": 0.800755939524838,\n",
            "    \"recall\": 0.6397756686798964\n",
            "}\n"
          ]
        }
      ]
    },
    {
      "cell_type": "code",
      "source": [
        "leaderboard = predictor.leaderboard(test_data)"
      ],
      "metadata": {
        "colab": {
          "base_uri": "https://localhost:8080/"
        },
        "id": "59Loc8dncvrv",
        "outputId": "2af3c6b6-3322-4ad8-e75a-b549bb076bc7"
      },
      "execution_count": null,
      "outputs": [
        {
          "output_type": "stream",
          "name": "stdout",
          "text": [
            "                  model  score_test  score_val  pred_time_test  pred_time_val   fit_time  pred_time_test_marginal  pred_time_val_marginal  fit_time_marginal  stack_level  can_infer  fit_order\n",
            "0   WeightedEnsemble_L2    0.876753     0.8864        1.392325       0.443720  71.705051                 0.059249                0.005404           1.351176            2       True         12\n",
            "1              CatBoost    0.875627     0.8836        0.039340       0.025799  36.035641                 0.039340                0.025799          36.035641            1       True          7\n",
            "2              LightGBM    0.873477     0.8824        0.370032       0.053497   1.951005                 0.370032                0.053497           1.951005            1       True          4\n",
            "3            LightGBMXT    0.871430     0.8792        0.280367       0.075792   2.768765                 0.280367                0.075792           2.768765            1       True          3\n",
            "4               XGBoost    0.868871     0.8720        0.066423       0.027042   0.668326                 0.066423                0.027042           0.668326            1       True         11\n",
            "5       NeuralNetFastAI    0.858839     0.8628        0.194088       0.057627  29.385520                 0.194088                0.057627          29.385520            1       True         10\n",
            "6      RandomForestGini    0.858532     0.8640        0.880570       0.312669   9.969909                 0.880570                0.312669           9.969909            1       True          5\n",
            "7      RandomForestEntr    0.858225     0.8608        1.036614       0.520466  17.410235                 1.036614                0.520466          17.410235            1       True          6\n",
            "8        ExtraTreesGini    0.851264     0.8496        1.348474       0.314304   6.362925                 1.348474                0.314304           6.362925            1       True          8\n",
            "9        ExtraTreesEntr    0.851059     0.8496        1.320891       0.313502   6.974835                 1.320891                0.313502           6.974835            1       True          9\n",
            "10       KNeighborsUnif    0.773467     0.7752        0.213496       0.115768   0.110614                 0.213496                0.115768           0.110614            1       True          1\n",
            "11       KNeighborsDist    0.762514     0.7660        0.235752       0.109834   0.102330                 0.235752                0.109834           0.102330            1       True          2\n"
          ]
        }
      ]
    },
    {
      "cell_type": "code",
      "source": [
        "predictor.fit_summary()"
      ],
      "metadata": {
        "colab": {
          "base_uri": "https://localhost:8080/"
        },
        "id": "dPdD20tGbDhT",
        "outputId": "2b6ff028-8e35-4905-a7fa-f2d82d35fed0"
      },
      "execution_count": null,
      "outputs": [
        {
          "output_type": "stream",
          "name": "stdout",
          "text": [
            "*** Summary of fit() ***\n",
            "Estimated performance of each model:\n",
            "                  model  score_val  pred_time_val   fit_time  pred_time_val_marginal  fit_time_marginal  stack_level  can_infer  fit_order\n",
            "0   WeightedEnsemble_L2     0.8864       0.443720  71.705051                0.005404           1.351176            2       True         12\n",
            "1              CatBoost     0.8836       0.025799  36.035641                0.025799          36.035641            1       True          7\n",
            "2              LightGBM     0.8824       0.053497   1.951005                0.053497           1.951005            1       True          4\n",
            "3            LightGBMXT     0.8792       0.075792   2.768765                0.075792           2.768765            1       True          3\n",
            "4               XGBoost     0.8720       0.027042   0.668326                0.027042           0.668326            1       True         11\n",
            "5      RandomForestGini     0.8640       0.312669   9.969909                0.312669           9.969909            1       True          5\n",
            "6       NeuralNetFastAI     0.8628       0.057627  29.385520                0.057627          29.385520            1       True         10\n",
            "7      RandomForestEntr     0.8608       0.520466  17.410235                0.520466          17.410235            1       True          6\n",
            "8        ExtraTreesEntr     0.8496       0.313502   6.974835                0.313502           6.974835            1       True          9\n",
            "9        ExtraTreesGini     0.8496       0.314304   6.362925                0.314304           6.362925            1       True          8\n",
            "10       KNeighborsUnif     0.7752       0.115768   0.110614                0.115768           0.110614            1       True          1\n",
            "11       KNeighborsDist     0.7660       0.109834   0.102330                0.109834           0.102330            1       True          2\n",
            "Number of models trained: 12\n",
            "Types of models trained:\n",
            "{'KNNModel', 'CatBoostModel', 'RFModel', 'LGBModel', 'XGBoostModel', 'XTModel', 'NNFastAiTabularModel', 'WeightedEnsembleModel'}\n",
            "Bagging used: False \n",
            "Multi-layer stack-ensembling used: False \n",
            "Feature Metadata (Processed):\n",
            "(raw dtype, special dtypes):\n",
            "('category', [])  : 7 | ['workclass', 'education', 'marital-status', 'occupation', 'relationship', ...]\n",
            "('int', [])       : 6 | ['age', 'fnlwgt', 'education-num', 'capital-gain', 'capital-loss', ...]\n",
            "('int', ['bool']) : 1 | ['sex']\n",
            "Plot summary of models saved to file: AutogluonModels/ag-20220408_043438/SummaryOfModels.html\n",
            "*** End of fit() summary ***\n"
          ]
        },
        {
          "output_type": "execute_result",
          "data": {
            "text/plain": [
              "{'model_types': {'KNeighborsUnif': 'KNNModel',\n",
              "  'KNeighborsDist': 'KNNModel',\n",
              "  'LightGBMXT': 'LGBModel',\n",
              "  'LightGBM': 'LGBModel',\n",
              "  'RandomForestGini': 'RFModel',\n",
              "  'RandomForestEntr': 'RFModel',\n",
              "  'CatBoost': 'CatBoostModel',\n",
              "  'ExtraTreesGini': 'XTModel',\n",
              "  'ExtraTreesEntr': 'XTModel',\n",
              "  'NeuralNetFastAI': 'NNFastAiTabularModel',\n",
              "  'XGBoost': 'XGBoostModel',\n",
              "  'WeightedEnsemble_L2': 'WeightedEnsembleModel'},\n",
              " 'model_performance': {'KNeighborsUnif': 0.7752,\n",
              "  'KNeighborsDist': 0.766,\n",
              "  'LightGBMXT': 0.8792,\n",
              "  'LightGBM': 0.8824,\n",
              "  'RandomForestGini': 0.864,\n",
              "  'RandomForestEntr': 0.8608,\n",
              "  'CatBoost': 0.8836,\n",
              "  'ExtraTreesGini': 0.8496,\n",
              "  'ExtraTreesEntr': 0.8496,\n",
              "  'NeuralNetFastAI': 0.8628,\n",
              "  'XGBoost': 0.872,\n",
              "  'WeightedEnsemble_L2': 0.8864},\n",
              " 'model_best': 'WeightedEnsemble_L2',\n",
              " 'model_paths': {'KNeighborsUnif': 'AutogluonModels/ag-20220408_043438/models/KNeighborsUnif/',\n",
              "  'KNeighborsDist': 'AutogluonModels/ag-20220408_043438/models/KNeighborsDist/',\n",
              "  'LightGBMXT': 'AutogluonModels/ag-20220408_043438/models/LightGBMXT/',\n",
              "  'LightGBM': 'AutogluonModels/ag-20220408_043438/models/LightGBM/',\n",
              "  'RandomForestGini': 'AutogluonModels/ag-20220408_043438/models/RandomForestGini/',\n",
              "  'RandomForestEntr': 'AutogluonModels/ag-20220408_043438/models/RandomForestEntr/',\n",
              "  'CatBoost': 'AutogluonModels/ag-20220408_043438/models/CatBoost/',\n",
              "  'ExtraTreesGini': 'AutogluonModels/ag-20220408_043438/models/ExtraTreesGini/',\n",
              "  'ExtraTreesEntr': 'AutogluonModels/ag-20220408_043438/models/ExtraTreesEntr/',\n",
              "  'NeuralNetFastAI': 'AutogluonModels/ag-20220408_043438/models/NeuralNetFastAI/',\n",
              "  'XGBoost': 'AutogluonModels/ag-20220408_043438/models/XGBoost/',\n",
              "  'WeightedEnsemble_L2': 'AutogluonModels/ag-20220408_043438/models/WeightedEnsemble_L2/'},\n",
              " 'model_fit_times': {'KNeighborsUnif': 0.11061429977416992,\n",
              "  'KNeighborsDist': 0.10232996940612793,\n",
              "  'LightGBMXT': 2.7687647342681885,\n",
              "  'LightGBM': 1.951005220413208,\n",
              "  'RandomForestGini': 9.969909191131592,\n",
              "  'RandomForestEntr': 17.410235166549683,\n",
              "  'CatBoost': 36.03564119338989,\n",
              "  'ExtraTreesGini': 6.362924814224243,\n",
              "  'ExtraTreesEntr': 6.974835395812988,\n",
              "  'NeuralNetFastAI': 29.3855197429657,\n",
              "  'XGBoost': 0.6683259010314941,\n",
              "  'WeightedEnsemble_L2': 1.3511760234832764},\n",
              " 'model_pred_times': {'KNeighborsUnif': 0.1157681941986084,\n",
              "  'KNeighborsDist': 0.1098337173461914,\n",
              "  'LightGBMXT': 0.07579159736633301,\n",
              "  'LightGBM': 0.053496599197387695,\n",
              "  'RandomForestGini': 0.3126688003540039,\n",
              "  'RandomForestEntr': 0.5204658508300781,\n",
              "  'CatBoost': 0.025798797607421875,\n",
              "  'ExtraTreesGini': 0.3143038749694824,\n",
              "  'ExtraTreesEntr': 0.31350207328796387,\n",
              "  'NeuralNetFastAI': 0.05762743949890137,\n",
              "  'XGBoost': 0.027042150497436523,\n",
              "  'WeightedEnsemble_L2': 0.005403757095336914},\n",
              " 'num_bag_folds': 0,\n",
              " 'max_stack_level': 2,\n",
              " 'num_classes': 2,\n",
              " 'model_hyperparams': {'KNeighborsUnif': {'weights': 'uniform'},\n",
              "  'KNeighborsDist': {'weights': 'distance'},\n",
              "  'LightGBMXT': {'learning_rate': 0.05, 'extra_trees': True},\n",
              "  'LightGBM': {'learning_rate': 0.05},\n",
              "  'RandomForestGini': {'n_estimators': 300,\n",
              "   'n_jobs': -1,\n",
              "   'random_state': 0,\n",
              "   'bootstrap': True,\n",
              "   'criterion': 'gini'},\n",
              "  'RandomForestEntr': {'n_estimators': 300,\n",
              "   'n_jobs': -1,\n",
              "   'random_state': 0,\n",
              "   'bootstrap': True,\n",
              "   'criterion': 'entropy'},\n",
              "  'CatBoost': {'iterations': 10000,\n",
              "   'learning_rate': 0.05,\n",
              "   'random_seed': 0,\n",
              "   'allow_writing_files': False,\n",
              "   'eval_metric': 'Accuracy'},\n",
              "  'ExtraTreesGini': {'n_estimators': 300,\n",
              "   'n_jobs': -1,\n",
              "   'random_state': 0,\n",
              "   'bootstrap': True,\n",
              "   'criterion': 'gini'},\n",
              "  'ExtraTreesEntr': {'n_estimators': 300,\n",
              "   'n_jobs': -1,\n",
              "   'random_state': 0,\n",
              "   'bootstrap': True,\n",
              "   'criterion': 'entropy'},\n",
              "  'NeuralNetFastAI': {'layers': None,\n",
              "   'emb_drop': 0.1,\n",
              "   'ps': 0.1,\n",
              "   'bs': 'auto',\n",
              "   'lr': 0.01,\n",
              "   'epochs': 'auto',\n",
              "   'early.stopping.min_delta': 0.0001,\n",
              "   'early.stopping.patience': 20,\n",
              "   'smoothing': 0.0},\n",
              "  'XGBoost': {'n_estimators': 10000,\n",
              "   'learning_rate': 0.1,\n",
              "   'n_jobs': -1,\n",
              "   'proc.max_category_levels': 100,\n",
              "   'objective': 'binary:logistic',\n",
              "   'booster': 'gbtree',\n",
              "   'use_label_encoder': False},\n",
              "  'WeightedEnsemble_L2': {'use_orig_features': False,\n",
              "   'max_base_models': 25,\n",
              "   'max_base_models_per_type': 5,\n",
              "   'save_bag_folds': True}},\n",
              " 'leaderboard':                   model  score_val  pred_time_val   fit_time  \\\n",
              " 0   WeightedEnsemble_L2     0.8864       0.443720  71.705051   \n",
              " 1              CatBoost     0.8836       0.025799  36.035641   \n",
              " 2              LightGBM     0.8824       0.053497   1.951005   \n",
              " 3            LightGBMXT     0.8792       0.075792   2.768765   \n",
              " 4               XGBoost     0.8720       0.027042   0.668326   \n",
              " 5      RandomForestGini     0.8640       0.312669   9.969909   \n",
              " 6       NeuralNetFastAI     0.8628       0.057627  29.385520   \n",
              " 7      RandomForestEntr     0.8608       0.520466  17.410235   \n",
              " 8        ExtraTreesEntr     0.8496       0.313502   6.974835   \n",
              " 9        ExtraTreesGini     0.8496       0.314304   6.362925   \n",
              " 10       KNeighborsUnif     0.7752       0.115768   0.110614   \n",
              " 11       KNeighborsDist     0.7660       0.109834   0.102330   \n",
              " \n",
              "     pred_time_val_marginal  fit_time_marginal  stack_level  can_infer  \\\n",
              " 0                 0.005404           1.351176            2       True   \n",
              " 1                 0.025799          36.035641            1       True   \n",
              " 2                 0.053497           1.951005            1       True   \n",
              " 3                 0.075792           2.768765            1       True   \n",
              " 4                 0.027042           0.668326            1       True   \n",
              " 5                 0.312669           9.969909            1       True   \n",
              " 6                 0.057627          29.385520            1       True   \n",
              " 7                 0.520466          17.410235            1       True   \n",
              " 8                 0.313502           6.974835            1       True   \n",
              " 9                 0.314304           6.362925            1       True   \n",
              " 10                0.115768           0.110614            1       True   \n",
              " 11                0.109834           0.102330            1       True   \n",
              " \n",
              "     fit_order  \n",
              " 0          12  \n",
              " 1           7  \n",
              " 2           4  \n",
              " 3           3  \n",
              " 4          11  \n",
              " 5           5  \n",
              " 6          10  \n",
              " 7           6  \n",
              " 8           9  \n",
              " 9           8  \n",
              " 10          1  \n",
              " 11          2  }"
            ]
          },
          "metadata": {},
          "execution_count": 23
        }
      ]
    },
    {
      "cell_type": "markdown",
      "source": [
        "# Ejercicio 1\n",
        "Probar multiples codificaciones incluida K-mers para probar sobre el archivo de prueba y mostrar el mejor resultado, adicional utilizar la operación grid search para realizar optimización de párametros"
      ],
      "metadata": {
        "id": "XcVE4M23Flzs"
      }
    },
    {
      "cell_type": "markdown",
      "source": [
        "# Ejercicio 2\n",
        "\n",
        "Tomar el base de datos de 11 tumores a partir de microarrays de expresión genica y clasificarlos con los algoritmos vistos en este notebook incluido optimización de páramteros"
      ],
      "metadata": {
        "id": "RC_oGvyQGWf4"
      }
    },
    {
      "cell_type": "markdown",
      "source": [
        "# Ejercicio 3\n",
        "\n",
        "Tomar el base de datos de gioblastoma y clasificarlos con los algoritmos vistos en este notebook incluido optimización de páramteros"
      ],
      "metadata": {
        "id": "OkLZ6j46JiRj"
      }
    },
    {
      "cell_type": "markdown",
      "source": [
        "# Ejercicio 4\n",
        "Utilizar autoglon (auto Machine learning) para la base de datos de LTR en una codifiación particular"
      ],
      "metadata": {
        "id": "rObPrfVTQsxR"
      }
    }
  ],
  "metadata": {
    "kernelspec": {
      "display_name": "Python 3",
      "language": "python",
      "name": "python3"
    },
    "language_info": {
      "codemirror_mode": {
        "name": "ipython",
        "version": 3
      },
      "file_extension": ".py",
      "mimetype": "text/x-python",
      "name": "python",
      "nbconvert_exporter": "python",
      "pygments_lexer": "ipython3",
      "version": "3.5.6"
    },
    "colab": {
      "name": "Clase-3-Bioinformatics-Machine-Learning.ipynb",
      "provenance": []
    }
  },
  "nbformat": 4,
  "nbformat_minor": 0
}